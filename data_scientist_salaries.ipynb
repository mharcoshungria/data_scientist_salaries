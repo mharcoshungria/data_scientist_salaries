{
 "cells": [
  {
   "cell_type": "markdown",
   "metadata": {
    "id": "3CEvPnTZ4DZW"
   },
   "source": [
    "<img src=\"https://i.imgur.com/YX6UATs.png\"  width=\"160\">"
   ]
  },
  {
   "cell_type": "markdown",
   "metadata": {
    "id": "BniT9xG2zCVO"
   },
   "source": [
    "# **Projeto Final - Data Science**"
   ]
  },
  {
   "cell_type": "markdown",
   "metadata": {},
   "source": [
    "\n",
    "\n",
    "---\n",
    "\n",
    "\n",
    "\n",
    "---\n",
    "\n"
   ]
  },
  {
   "cell_type": "markdown",
   "metadata": {
    "id": "ot77pl5w54R8"
   },
   "source": [
    "## 01. Exposição do problema"
   ]
  },
  {
   "cell_type": "markdown",
   "metadata": {
    "id": "cOQA5bKDyseh"
   },
   "source": [
    "#### **O Projeto:**\n",
    "\n",
    "O projeto tem como objetivo identificar se características da empresa influênciam no salário ofertado. \n",
    "\n",
    "Iremos analisar se o título do cargo, localização da sede, tamanho da empresa ou faturamento influênciam diretamente no salário dos funcionários. \n",
    "<br/>\n",
    "\n",
    "#### **Resumo sobre as seções:**\n",
    "<br/>\n",
    "\n",
    "*   **Coleta de dados:** A primeira etapa é carregar ou importar todas as bibliotecas e pacotes necessários para obter os resultados desejados. Uma vez que as bibliotecas são carregadas, precisamos carregar os dados.\n",
    "<br/>\n",
    "\n",
    "*   **Preparação dos dados:** Depois de entender os dados, vamos transformá-los para torná-los adequados para que os algoritmos processem e trabalhem com mais eficiência, a fim de fornecer resultados com maior accurácia e precisão. Este é o estágio mais importante e mais demorado de qualquer projeto de ML.\n",
    "<br/>\n",
    "\n",
    "*   **Análise exploratória:** Com os dados coletados e preparados para análise. Chegou o momento de explorar os dados de duas formas. A primeira é analisando as estatísticas descritivas, como o nome sugere, descreve os dados em termos de estatísticas - média, desvio padrão, quantis, etc. A segunda é através de visualizações gráficas.\n",
    "<br/>\n",
    "\n",
    "*   **Modelagem:** Agora que nossos dados estão prontos, vamos verificar o desempenho em dois algoritmos de regressão. Primeiro, vamos separar em dados de treino e teste. Segundo, criamos o modelo e análisamos e rodamos. Por último, os modelos precisam ser avaliados com base em um determinado conjunto de métricas de avaliação que precisam ser definidas. Para algoritmos de regressão, algumas das métricas comuns são - MSE e R Square."
   ]
  },
  {
   "cell_type": "markdown",
   "metadata": {},
   "source": [
    "\n",
    "\n",
    "---\n",
    "\n",
    "\n",
    "\n",
    "---\n",
    "\n"
   ]
  },
  {
   "cell_type": "markdown",
   "metadata": {
    "id": "fMER2V3v6Mf4"
   },
   "source": [
    "## 02. Coleta de dados:"
   ]
  },
  {
   "cell_type": "markdown",
   "metadata": {
    "id": "XyywXIrzz9qe"
   },
   "source": [
    "**Coleta de dados:** A primeira etapa é carregar ou importar todas as bibliotecas e pacotes necessários para obter os resultados desejados. Uma vez que as bibliotecas são carregadas, precisamos carregar os dados.\n",
    "<br/>\n",
    "\n",
    "Nesse projeto vamos utilizar a coleta de dados secundária que consiste em  coletar os dados de alguma base já criada por outra pessoa, empresa ou organização.\n",
    "<br/>\n",
    "\n",
    "**Conjunto de dados:**\n",
    "\n",
    "O conjunto de dados que iremos utilizar foi coletado da plataforma [Kaggle](https://www.kaggle.com/prithviraj7387/datascientistsalaries). Uma comunidade on-line de cientistas de dados e profissionais de aprendizado de máquina.\n",
    "<br/>\n",
    "\n",
    "**Descrição do dados:**\n",
    "\n",
    "O arquivo que vamos utilizar é o [data_scraped.csv](https://github.com/mharcoshungria/data_scientist_salaries/blob/main/data_scraped.csv), nele encontramos as seguintes informações:\n",
    "\n",
    "- **Unnamed: 0:** indice segundário;\n",
    "- **Job Title:** Titulo do cargo;\n",
    "- **Salary Estimate:** Salário estimado;\n",
    "- **Job Description:** Descrição do trabalho;\n",
    "- **Rating:** Ranking;\n",
    "- **Company Name:** Nome da empresa;\n",
    "- **Location:** Localização da empresa;\n",
    "- **Headquarters:** Localização da sede;\n",
    "- **Size:** Tamanho da empresa;\n",
    "- **Founded:** Ano que a empresa foi fundada;\n",
    "- **Type of ownership:** Tipo de sociedade;\n",
    "- **Industry:** Industria da empresa;\n",
    "- **Sector:** Setor da empresa;\n",
    "- **Revenue:** Faturamento;\n",
    "- **Competitors:** Não identificado."
   ]
  },
  {
   "cell_type": "markdown",
   "metadata": {},
   "source": [
    "\n",
    "\n",
    "---\n",
    "\n",
    "\n",
    "\n",
    "---\n",
    "\n"
   ]
  },
  {
   "cell_type": "markdown",
   "metadata": {
    "id": "vqStjK2cFfne"
   },
   "source": [
    "## 03. Importando bibliotecas:"
   ]
  },
  {
   "cell_type": "code",
   "execution_count": 1,
   "metadata": {
    "id": "pL09IS0_KEOm"
   },
   "outputs": [],
   "source": [
    "# Vamos importar as principais bibliotecas que iremos utilizar no projeto\n",
    "%matplotlib inline\n",
    "import pandas as pd\n",
    "import numpy as np\n",
    "import matplotlib.pyplot as plt\n",
    "import seaborn as sns\n",
    "from sklearn import linear_model\n",
    "from sklearn.linear_model import LinearRegression\n",
    "from sklearn.model_selection import train_test_split\n",
    "from sklearn.ensemble import ExtraTreesRegressor\n",
    "from sklearn.metrics import mean_squared_error"
   ]
  },
  {
   "cell_type": "markdown",
   "metadata": {
    "id": "9dKdcNLMFGMR"
   },
   "source": [
    "Selecionando os dados que vamos extrair as informações."
   ]
  },
  {
   "cell_type": "code",
   "execution_count": 2,
   "metadata": {
    "id": "u-9fksw4oeUp"
   },
   "outputs": [],
   "source": [
    "# Selecionando a fonte de dados\n",
    "fonte = \"https://raw.githubusercontent.com/mharcoshungria/data_scientist_salaries/main/data_scraped.csv\""
   ]
  },
  {
   "cell_type": "markdown",
   "metadata": {
    "id": "GP6jlDvOFYkl"
   },
   "source": [
    "Realizando a leitura dos dados."
   ]
  },
  {
   "cell_type": "code",
   "execution_count": 4,
   "metadata": {
    "id": "0ZZfsNfGKyX5"
   },
   "outputs": [],
   "source": [
    "# leitura de dados\n",
    "df = pd.read_csv(fonte)"
   ]
  },
  {
   "cell_type": "markdown",
   "metadata": {
    "id": "K_u-ITKgFoK8"
   },
   "source": [
    "Visualizando o dataset para identificar se as informações de cada coluna conferem com as descrições."
   ]
  },
  {
   "cell_type": "code",
   "execution_count": 5,
   "metadata": {
    "colab": {
     "base_uri": "https://localhost:8080/",
     "height": 513
    },
    "id": "SLx8A-KdouPM",
    "outputId": "0a3f2bc5-2651-4c8b-90c9-8b8c3ae2f8dd"
   },
   "outputs": [
    {
     "data": {
      "text/html": [
       "<div>\n",
       "<style scoped>\n",
       "    .dataframe tbody tr th:only-of-type {\n",
       "        vertical-align: middle;\n",
       "    }\n",
       "\n",
       "    .dataframe tbody tr th {\n",
       "        vertical-align: top;\n",
       "    }\n",
       "\n",
       "    .dataframe thead th {\n",
       "        text-align: right;\n",
       "    }\n",
       "</style>\n",
       "<table border=\"1\" class=\"dataframe\">\n",
       "  <thead>\n",
       "    <tr style=\"text-align: right;\">\n",
       "      <th></th>\n",
       "      <th>Unnamed: 0</th>\n",
       "      <th>Job Title</th>\n",
       "      <th>Salary Estimate</th>\n",
       "      <th>Job Description</th>\n",
       "      <th>Rating</th>\n",
       "      <th>Company Name</th>\n",
       "      <th>Location</th>\n",
       "      <th>Headquarters</th>\n",
       "      <th>Size</th>\n",
       "      <th>Founded</th>\n",
       "      <th>Type of ownership</th>\n",
       "      <th>Industry</th>\n",
       "      <th>Sector</th>\n",
       "      <th>Revenue</th>\n",
       "      <th>Competitors</th>\n",
       "    </tr>\n",
       "  </thead>\n",
       "  <tbody>\n",
       "    <tr>\n",
       "      <th>0</th>\n",
       "      <td>0</td>\n",
       "      <td>Data Scientist</td>\n",
       "      <td>$53K-$91K (Glassdoor est.)</td>\n",
       "      <td>Data Scientist\\r\\nLocation: Albuquerque, NM\\r\\...</td>\n",
       "      <td>3.8</td>\n",
       "      <td>Tecolote Research\\r\\n3.8</td>\n",
       "      <td>Albuquerque, NM</td>\n",
       "      <td>Goleta, CA</td>\n",
       "      <td>501 to 1000 employees</td>\n",
       "      <td>1973</td>\n",
       "      <td>Company - Private</td>\n",
       "      <td>Aerospace &amp; Defense</td>\n",
       "      <td>Aerospace &amp; Defense</td>\n",
       "      <td>$50 to $100 million (USD)</td>\n",
       "      <td>-1</td>\n",
       "    </tr>\n",
       "    <tr>\n",
       "      <th>1</th>\n",
       "      <td>1</td>\n",
       "      <td>Healthcare Data Scientist</td>\n",
       "      <td>$63K-$112K (Glassdoor est.)</td>\n",
       "      <td>What You Will Do:\\r\\n\\r\\nI. General Summary\\r\\...</td>\n",
       "      <td>3.4</td>\n",
       "      <td>University of Maryland Medical System\\r\\n3.4</td>\n",
       "      <td>Linthicum, MD</td>\n",
       "      <td>Baltimore, MD</td>\n",
       "      <td>10000+ employees</td>\n",
       "      <td>1984</td>\n",
       "      <td>Other Organization</td>\n",
       "      <td>Health Care Services &amp; Hospitals</td>\n",
       "      <td>Health Care</td>\n",
       "      <td>$2 to $5 billion (USD)</td>\n",
       "      <td>-1</td>\n",
       "    </tr>\n",
       "    <tr>\n",
       "      <th>2</th>\n",
       "      <td>2</td>\n",
       "      <td>Data Scientist</td>\n",
       "      <td>$80K-$90K (Glassdoor est.)</td>\n",
       "      <td>KnowBe4, Inc. is a high growth information sec...</td>\n",
       "      <td>4.8</td>\n",
       "      <td>KnowBe4\\r\\n4.8</td>\n",
       "      <td>Clearwater, FL</td>\n",
       "      <td>Clearwater, FL</td>\n",
       "      <td>501 to 1000 employees</td>\n",
       "      <td>2010</td>\n",
       "      <td>Company - Private</td>\n",
       "      <td>Security Services</td>\n",
       "      <td>Business Services</td>\n",
       "      <td>$100 to $500 million (USD)</td>\n",
       "      <td>-1</td>\n",
       "    </tr>\n",
       "    <tr>\n",
       "      <th>3</th>\n",
       "      <td>3</td>\n",
       "      <td>Data Scientist</td>\n",
       "      <td>$56K-$97K (Glassdoor est.)</td>\n",
       "      <td>*Organization and Job ID**\\r\\nJob ID: 310709\\r...</td>\n",
       "      <td>3.8</td>\n",
       "      <td>PNNL\\r\\n3.8</td>\n",
       "      <td>Richland, WA</td>\n",
       "      <td>Richland, WA</td>\n",
       "      <td>1001 to 5000 employees</td>\n",
       "      <td>1965</td>\n",
       "      <td>Government</td>\n",
       "      <td>Energy</td>\n",
       "      <td>Oil, Gas, Energy &amp; Utilities</td>\n",
       "      <td>$500 million to $1 billion (USD)</td>\n",
       "      <td>Oak Ridge National Laboratory, National Renewa...</td>\n",
       "    </tr>\n",
       "    <tr>\n",
       "      <th>4</th>\n",
       "      <td>4</td>\n",
       "      <td>Data Scientist</td>\n",
       "      <td>$86K-$143K (Glassdoor est.)</td>\n",
       "      <td>Data Scientist\\r\\nAffinity Solutions / Marketi...</td>\n",
       "      <td>2.9</td>\n",
       "      <td>Affinity Solutions\\r\\n2.9</td>\n",
       "      <td>New York, NY</td>\n",
       "      <td>New York, NY</td>\n",
       "      <td>51 to 200 employees</td>\n",
       "      <td>1998</td>\n",
       "      <td>Company - Private</td>\n",
       "      <td>Advertising &amp; Marketing</td>\n",
       "      <td>Business Services</td>\n",
       "      <td>Unknown / Non-Applicable</td>\n",
       "      <td>Commerce Signals, Cardlytics, Yodlee</td>\n",
       "    </tr>\n",
       "  </tbody>\n",
       "</table>\n",
       "</div>"
      ],
      "text/plain": [
       "   Unnamed: 0                  Job Title              Salary Estimate  \\\n",
       "0           0             Data Scientist   $53K-$91K (Glassdoor est.)   \n",
       "1           1  Healthcare Data Scientist  $63K-$112K (Glassdoor est.)   \n",
       "2           2             Data Scientist   $80K-$90K (Glassdoor est.)   \n",
       "3           3             Data Scientist   $56K-$97K (Glassdoor est.)   \n",
       "4           4             Data Scientist  $86K-$143K (Glassdoor est.)   \n",
       "\n",
       "                                     Job Description  Rating  \\\n",
       "0  Data Scientist\\r\\nLocation: Albuquerque, NM\\r\\...     3.8   \n",
       "1  What You Will Do:\\r\\n\\r\\nI. General Summary\\r\\...     3.4   \n",
       "2  KnowBe4, Inc. is a high growth information sec...     4.8   \n",
       "3  *Organization and Job ID**\\r\\nJob ID: 310709\\r...     3.8   \n",
       "4  Data Scientist\\r\\nAffinity Solutions / Marketi...     2.9   \n",
       "\n",
       "                                   Company Name         Location  \\\n",
       "0                      Tecolote Research\\r\\n3.8  Albuquerque, NM   \n",
       "1  University of Maryland Medical System\\r\\n3.4    Linthicum, MD   \n",
       "2                                KnowBe4\\r\\n4.8   Clearwater, FL   \n",
       "3                                   PNNL\\r\\n3.8     Richland, WA   \n",
       "4                     Affinity Solutions\\r\\n2.9     New York, NY   \n",
       "\n",
       "     Headquarters                    Size  Founded   Type of ownership  \\\n",
       "0      Goleta, CA   501 to 1000 employees     1973   Company - Private   \n",
       "1   Baltimore, MD        10000+ employees     1984  Other Organization   \n",
       "2  Clearwater, FL   501 to 1000 employees     2010   Company - Private   \n",
       "3    Richland, WA  1001 to 5000 employees     1965          Government   \n",
       "4    New York, NY     51 to 200 employees     1998   Company - Private   \n",
       "\n",
       "                           Industry                        Sector  \\\n",
       "0               Aerospace & Defense           Aerospace & Defense   \n",
       "1  Health Care Services & Hospitals                   Health Care   \n",
       "2                 Security Services             Business Services   \n",
       "3                            Energy  Oil, Gas, Energy & Utilities   \n",
       "4           Advertising & Marketing             Business Services   \n",
       "\n",
       "                            Revenue  \\\n",
       "0         $50 to $100 million (USD)   \n",
       "1            $2 to $5 billion (USD)   \n",
       "2        $100 to $500 million (USD)   \n",
       "3  $500 million to $1 billion (USD)   \n",
       "4          Unknown / Non-Applicable   \n",
       "\n",
       "                                         Competitors  \n",
       "0                                                 -1  \n",
       "1                                                 -1  \n",
       "2                                                 -1  \n",
       "3  Oak Ridge National Laboratory, National Renewa...  \n",
       "4               Commerce Signals, Cardlytics, Yodlee  "
      ]
     },
     "execution_count": 5,
     "metadata": {},
     "output_type": "execute_result"
    }
   ],
   "source": [
    "# Visualisando as primeiras 5 linhas do dataset\n",
    "df.head()"
   ]
  },
  {
   "cell_type": "markdown",
   "metadata": {
    "id": "0gskIf1yF1xW"
   },
   "source": [
    "Identificando o tamanho do dataset em relação a quantidade de linhas e colunas."
   ]
  },
  {
   "cell_type": "code",
   "execution_count": 6,
   "metadata": {
    "colab": {
     "base_uri": "https://localhost:8080/"
    },
    "id": "e0Cms7hvbDGZ",
    "outputId": "33f1f17d-90ae-4fdf-9b38-245ce8501c8f"
   },
   "outputs": [
    {
     "name": "stdout",
     "output_type": "stream",
     "text": [
      "Este Dataset possui 956 linhas e 15 colunas\n"
     ]
    }
   ],
   "source": [
    "# Visualizando o número de linhas e colunas\n",
    "nlinhas, nColunas = df.shape\n",
    "print(f'Este Dataset possui {nlinhas} linhas e {nColunas} colunas')"
   ]
  },
  {
   "cell_type": "markdown",
   "metadata": {
    "id": "O4vjI2gHF90a"
   },
   "source": [
    "Visualizando as colunas e conferindo com a descrição inicial."
   ]
  },
  {
   "cell_type": "code",
   "execution_count": 7,
   "metadata": {
    "colab": {
     "base_uri": "https://localhost:8080/"
    },
    "id": "W08Erz6NbHA7",
    "outputId": "d2909af5-9d79-4900-c0a7-f8580537b071"
   },
   "outputs": [
    {
     "data": {
      "text/plain": [
       "array(['Unnamed: 0', 'Job Title', 'Salary Estimate', 'Job Description',\n",
       "       'Rating', 'Company Name', 'Location', 'Headquarters', 'Size',\n",
       "       'Founded', 'Type of ownership', 'Industry', 'Sector', 'Revenue',\n",
       "       'Competitors'], dtype=object)"
      ]
     },
     "execution_count": 7,
     "metadata": {},
     "output_type": "execute_result"
    }
   ],
   "source": [
    "# Visualizando nossas colunas\n",
    "df.columns.values"
   ]
  },
  {
   "cell_type": "markdown",
   "metadata": {},
   "source": [
    "\n",
    "\n",
    "---\n",
    "\n",
    "\n",
    "\n",
    "---\n",
    "\n"
   ]
  },
  {
   "cell_type": "markdown",
   "metadata": {
    "id": "sV4UqUOB69qR"
   },
   "source": [
    "## 04. Preparação dos dados:"
   ]
  },
  {
   "cell_type": "markdown",
   "metadata": {
    "id": "mQxcHWas1J4X"
   },
   "source": [
    "**Preparação dos dados:** Depois de entender os dados, vamos transformá-los para torná-los adequados para que os algoritmos processem e trabalhem com mais eficiência, a fim de fornecer resultados com maior accurácia e precisão. Este é o estágio mais importante e mais demorado de qualquer projeto de ML.\n",
    "<br/>\n",
    "\n",
    "Os dados da vida real não são organizados e apresentados de maneira adequada e em um dataframe sem anormalidades. Os dados geralmente têm muitas das chamadas anormalidades, como valores ausentes, muitos recursos com formato incorreto, recursos em escalas diferentes, etc. Tudo isso precisa ser tratado manualmente, o que leva muito tempo e requer muito tempo de programação.\n",
    "<br/>\n",
    "\n",
    "Durante essa etapa, alguns dos procedimentos que serão realizados:\n",
    "\n",
    "- Remoção de colunas e dados indesejados;\n",
    "- Tratamento de dados ausentes;\n",
    "- Ajustes dos tipos de dados ( datetime, floats, integers, strings , etc...);\n",
    "- Tratamento de Strings.\n"
   ]
  },
  {
   "cell_type": "markdown",
   "metadata": {
    "id": "hfDBZRg58egr"
   },
   "source": [
    "Inicialmente, vamos remover as colunas que não influênciam na nossa análise."
   ]
  },
  {
   "cell_type": "code",
   "execution_count": 8,
   "metadata": {
    "id": "efMLVs4ILYKh"
   },
   "outputs": [],
   "source": [
    "# Excluindo as colunas que não iremos utilizar.\n",
    "df.drop('Unnamed: 0', axis=1, inplace=True) # Coluna idêntica ao índice do próprio pandas. \n",
    "df.drop('Job Description', axis=1, inplace=True) # Não existe uma padrão que faça sentido a utilização dos dados.\n",
    "df.drop('Company Name', axis=1, inplace=True) # Dado não influência as principais variáveis que serão utilizadas.\n",
    "df.drop('Competitors', axis=1, inplace=True) # Não identificado que tipo de informação essa coluna apresenta."
   ]
  },
  {
   "cell_type": "markdown",
   "metadata": {
    "id": "D-EgQk2mGleI"
   },
   "source": [
    "Foram identificados dados faltantes que foram substituidos por -1.\n",
    "<br/>\n",
    "\n",
    "Iremos converter esses dados para o padrão NaN ficando mais amigável e melhor para manejar."
   ]
  },
  {
   "cell_type": "code",
   "execution_count": 9,
   "metadata": {
    "id": "05g9aTfgPQR2"
   },
   "outputs": [],
   "source": [
    "# Convertendo todos os valos \"-1\" para NaN\n",
    "df = df[['Job Title', 'Salary Estimate', 'Rating', 'Location',\t'Headquarters', 'Size',\t'Founded',\t'Type of ownership',\t'Industry',\t'Sector',\t'Revenue']].replace('-1', np.NAN)"
   ]
  },
  {
   "cell_type": "markdown",
   "metadata": {
    "id": "Ft0EjsZyHavO"
   },
   "source": [
    "Agora, vamos identificar quantos valores faltantes existem em cada coluna."
   ]
  },
  {
   "cell_type": "code",
   "execution_count": 10,
   "metadata": {
    "colab": {
     "base_uri": "https://localhost:8080/"
    },
    "id": "Mk4ctzJhMEWZ",
    "outputId": "3b3afabf-02b3-4bb9-d51c-a22d1c239166"
   },
   "outputs": [
    {
     "data": {
      "text/plain": [
       "Job Title              0\n",
       "Salary Estimate      214\n",
       "Rating                 0\n",
       "Location               0\n",
       "Headquarters          11\n",
       "Size                  11\n",
       "Founded                0\n",
       "Type of ownership     11\n",
       "Industry              39\n",
       "Sector                39\n",
       "Revenue               11\n",
       "dtype: int64"
      ]
     },
     "execution_count": 10,
     "metadata": {},
     "output_type": "execute_result"
    }
   ],
   "source": [
    "# Analisando a quantidade de vezes o NaN aparece em todo o dataset\n",
    "df.isnull().sum()"
   ]
  },
  {
   "cell_type": "markdown",
   "metadata": {
    "id": "H4vbz7ykHp-r"
   },
   "source": [
    "Seguindo a ordem das colunas, foi identificado que não existe valores faltantes na coluna **Job Title** e que o principal problema desta coluna é a não padronização dos cargos.\n",
    "<br/>\n",
    "\n",
    "Vamos padronizar essa coluna com os cinco principais cargos identificados, que são:\n",
    "\n",
    "- **Data Scientist**;\n",
    "- **Data Engineer**;\n",
    "- **Data Analyst**;\n",
    "- **Business Intelligence**;\n",
    "- **Intern**."
   ]
  },
  {
   "cell_type": "code",
   "execution_count": 11,
   "metadata": {
    "colab": {
     "base_uri": "https://localhost:8080/"
    },
    "id": "jQgIqX1QLlrv",
    "outputId": "b3487a8c-dfb4-446c-8508-79dc795363b2"
   },
   "outputs": [
    {
     "data": {
      "text/plain": [
       "Data Scientist           612\n",
       "Data Engineer            193\n",
       "Data Analyst             133\n",
       "Business Intelligence     16\n",
       "Intern                     2\n",
       "Name: Job Title, dtype: int64"
      ]
     },
     "execution_count": 11,
     "metadata": {},
     "output_type": "execute_result"
    }
   ],
   "source": [
    "# Padronizando a coluna \"Job Title\"\n",
    "df['Job Title'].replace(\n",
    "    to_replace=['Sr. Enterprise Account Exec- Data Science / ML - NYC','Senior Manager, Epidemiologic Data Scientist','Senior Risk Data Scientist','Senior Data Scientist 4 Artificial Intelligence','Senior Scientist Protein/Oligonucleotides','Senior Insurance Data Scientist','Senior Research Analytical Scientist-Non-Targeted Analysis','Senior Clinical Lab Scientist, Clinical Lab Svcs - FT/Nights (8hr)','Senior Director Biometrics and Clinical Data Management','Sr. Scientist - Digital & Image Analysis/Computational Pathology','Sr Software Engineer (Data Scientist)','Sr. Data Scientist - Analytics, Personalized Healthcare (PHC)','Senior Data Scientist Artificial Intelligence','Senior LiDAR Data Scientist','Senior Data & Machine Learning Scientist','Senior Scientist - Biostatistician','Senior Scientist - Biostatistician ','Senior Data Scientist Oncology','Senior Scientist - Neuroscience','Sr Scientist, Immuno-Oncology - Oncology','Sr Expert Data Science, Advanced Visual Analytics (Associate level)','Senior Scientist - Toxicologist - Product Integrity (Stewardship)','Senior Scientist, Cell Pharmacology/Assay Development','Data Scientist SR','Scientist/Senior Scientist, Autoimmune','Senior Scientist, Logic Gated CAR T Cell Therapy','Senior Data Scientist / Machine Learning','Senior Scientist (Neuroscience)','Sr. Data Scientist II','Senior Scientist - Regulatory Submissions','Sr. Scientist, Quantitative Translational Sciences','Senior Data Scientist - AI Forecasting, Finance team','Senior Data Scientist - Algorithms','Sr. Data Scientist','Sr Data Scientist','Data Scientist, Senior','Senior Data Scientist Statistics','Senior Data Scientist','Data Scientist Manager','Data Science Manager','Senior Formulations Scientist II',\n",
    "                'Jr. Data Scientist','Staff Data Scientist - Technology','Scientist, Immuno-Oncology','Machine Learning Research Scientist','Pricipal Scientist Molecular and cellular biologist','MED TECH/LAB SCIENTIST - LABORATORY','Associate Principal Scientist, Pharmacogenomics','Medical Lab Scientist - MLT','Quality Control Scientist','PL Actuarial-Lead Data Scientist','Customer Data Scientist','Data Scientist - Health Data Analytics','Scientist Manufacturing Pharma - Kentucky BioProcessing','Principal Scientist - Immunologist','Data Scientist / Machine Learning Expert','Medical Lab Scientist - MLT ','Data Scientist, Office of Data Science','Associate Director/Director, Safety Scientist','Principal Data Scientist with over 10 years experience','Staff Data Scientist','Digital Health Data Scientist','Data Scientist (Actuary, FSA or ASA)','Clinical Laboratory Scientist','Head Data Scientist – Image Analytics lead, Novartis AI Innovation Lab','UX Data Scientist (Python)','Principal Scientist, Hematology','Scientist - Analytical Services','Principal Data Scientist (Computational Chemistry)','Head Data Scientist – NLP lead, Novartis AI Innovation Lab','Data Scientist (Active TS SCI with Polygraph)','Managing Data Scientist/ML Engineer','Scientist, Bacteriology','Staff Scientist- Upstream PD','Scientist - Analytical Development - Pharmaceutics','RESEARCH COMPUTER SCIENTIST - RESEARCH ENGINEER - SR. COMPUTER SCIENTIST - SOFTWARE DEVELOPMENT','Principal Data Scientist (Computational Chemistry','Excel / VBA / SQL Data Analyst','Data Analytics Project Manager','College Hire - Data Scientist - Open to December 2019 Graduates','Scientist','Risk and Analytics IT, Data Scientist','Data Scientist in Artificial Intelligence Early Career','Scientist, Analytical Development','Director Data Science','Scientist, Product Development','Director II, Data Science - GRS Predictive Analytics','Scientist, Pharmacometrics','Data Scientist - Algorithms & Inference','Data Scientist - Systems Engineering','Associate Director, Platform and DevOps- Data Engineering and Aritifical Intelligence','Product Engineer – Spatial Data Science and Statistical Analysis','Senior Imagery Scientist - SAR TO 11 #78 (TS/SCI)','Associate Machine Learning Engineer / Data Scientist May 2020 Undergrad','Scientist Manufacturing - Kentucky BioProcessing','Machine Learning Engineer - Regulatory','Research Scientist – Security and Privacy','Technology-Minded, Data Professional Opportunities','Associate Environmental Scientist - Wildlife Biologist','Sr. Scientist Method Development','Research Scientist – Security and Privacy ','Computational Chemist/Data Scientist','Scientist, Upstream Process Development (Bioreactors)','Scientist - Biomarker and Flow Cytometry','Medical Lab Scientist','Principal, Data Science - Advanced Analytics','Principal Scientist, Chemistry & Immunology','Associate, Data Science, Internal Audit','Clinical Data Scientist','Scientist – Cancer Drug Discovery','Project Scientist - Auton Lab, Robotics Institute','PV Scientist','Staff Machine Learning Scientist, AI Foundation','Geospatial Software Developer and Data Scientist','Data Scientist - Quantitative','Front-End, Back-End, Fullstack Developers & Data Scientist / Researchers - Cleared OR CLEARABLE (Up to 25% Profit Sharing Benefit!)','VP, Data Science','Deep Learning/Computer Vision Scientist','Product Engineer – Data Science','Data Science Project Manager','Chief Scientist - Emerging Technology Center','Lab Head, Principle Scientist, Dupixent/Type 2 Inflammation & Fibrosis - Cambridge, MA','Data Systems Specialist 2','RESEARCH SCIENTIST - BIOLOGICAL SAFETY','Environmental Scientist','Data Scientist - Research','Clinical Document Review Scientist','R&D Sr Data Scientist','Associate Scientist/Scientist, Process Analytical Technology - Small Molecule Analytical Chemistry','Data Scientist - Alpha Insights','Chief Data Scientist','Scientist - CVRM Metabolism - in vivo pharmacology','Real World Evidence (RWE) Scientist','Data Scientist, Rice University','Clinical Data Manager','Director, Data Science','Sr. Scientist, Toxicology','Scientist 2, QC Viral Vector','Clinical Scientist, Clinical Development','Data Scientist - Consultant - National','Scientist, Molecular/Cellular Biologist','Research Scientist, Machine Learning Department','Healthcare Data Scientist','Research Scientist, Immunology - Cancer Biology','Senior Data Scientist – Visualization, Novartis AI Innovation Lab','Machine Learning Scientist','Senior Research Scientist - Embedded System Development for DevOps','Senior Quantitative Analyst','Process Development Scientist','Project Scientist','Chief Data Officer','Associate Scientist','Data Scientist Analyst','Manager of Data Science','Senior Scientist - Bioanalytical','Director, Precision Medicine Clinical Biomarker Scientist','Senior Data Scientist - R&D Oncology','Associate Scientist ','Senior Machine Learning (ML) Engineer / Data Scientist - Cyber Security Analytics','Customer Data Scientist/Sales Engineer','Data Scientist/ML Engineer','Associate Scientist, LC/MS Biologics','R&D Data Analysis Scientist','Data Scientist - Sales','Data Management Specialist','Senior Research Statistician- Data Scientist','Senior Spark Engineer (Data Science)','Pharmacovigilance Scientist (Senior Pharmacovigilance)','Data Scientist II','Data Scientist (Warehouse Automation)','Medical Laboratory Scientist','Medical Technologist / Clinical Laboratory Scientist','Food Scientist - Developer','Insurance Data Scientist','Research Scientist','Research Scientist / Principal Research Scientist - Multiphysical Systems','Sr. Data Scientist, Cyber-Security LT Contract','Senior Research Scientist-Machine Learning','Data Scientists','Assistant Director/Director, Office of Data Science','Associate Scientist / Sr. Associate Scientist, Antibody Discovery','Scientist, Stem Cells and Genomics','Sr. Manager, Data Science - Marketing Mix Media','Business Development - Data Supply Partnerships (Veraset)','Data Scientist in Translational Medicine','Customer Data Scientist/Sales Engineer (Bay','Environmental Data Specialist','Head Data Scientist, Predictive Analytics Lead AI Innovation Lab','R&D Specialist/ Food Scientist','MED TECH/LAB SCIENTIST- SOUTH COASTAL LAB','Associate Research Scientist I (Protein Expression and Production)','Product Manager/Data Evangelist','Ag Data Scientist','Staff Scientist-Downstream Process Development','Principal Data Scientist','Lead Data Scientist','Machine Learning Engineer (NLP)','Associate Data Scientist/Computer Scientist','Staff Scientist','Senior Data Scientist: Causal & Predictive analytics AI Innovation Lab','Research Scientist or Senior Research Scientist - Computer Vision','Quality Control Scientist III- Analytical Development','Scientist I/II, Biology ', 'Scientist – Cancer Discovery, Molecular Assay', 'Principal Research Scientist/Team Lead, Medicinal Chemistry - Oncology', 'Principal Machine Learning Scientist', 'Manager, Safety Scientist, Medical Safety & Risk Management', 'Scientist I/II, Biology', 'Data Scientist - Bioinformatics', 'Senior Analytical Scientist', 'Tech Manager, Software Engineering - Data', 'Scientist, Biomarker Science', 'Sr. Scientist II' ],\n",
    "    value='Data Scientist',\n",
    "    inplace=True\n",
    ")\n",
    "\n",
    "df['Job Title'].replace(\n",
    "    to_replace=['Sr Data Engineer (Sr BI Developer)','Sr. Microsoft Data Engineer','Sr. Data Engineer (ETL Developer)','Senior Data Science Systems Engineer','Sr. BI Data Engineer III','Senior Data Engineer','Sr. Data Engineer','Sr. Data Engineer - Contract-to-Hire (Java)',\n",
    "                'Data Modeler - Data Solutions Engineer','Enterprise Architect, Data','IT - Data Engineer II','Staff Data Engineer','Director II, Data Science - GRM Actuarial','Data Science Engineer - Mobile','Director - Data, Privacy and AI Governance','Staff Machine Learning Engineer','Associate Data Engineer','Staff BI and Data Engineer','Data Engineer 5 - Contract (Remote)','AWS Data Engineer','Lead Big Data Engineer','Data Engineer - Consultant (Charlotte Based)','Lead Data Engineer (Python)','Data Engineer 4 - Contract (Remote)','Data Engineer, Data Engineering and Artifical Intelligence','Software Data Engineer - College','Data Engineer I','ENVIRONMENTAL ENGINEER/SCIENTIST','Data Modeler','Data Engineering Analyst','Software Engineer (Data Scientist/Software Engineer) - SISW - MG','Data Engineer 4 - Contract','Principal Data Engineer, Data Platform & Insights','Software Engineer - Data Visualization','Data Modeler (Analytical Systems)','Data Platform Engineer','Data Operations Lead','Data Architect / Data Modeler','Data Engineer - ETL','MongoDB Data Engineer II','Big Data Engineer','SQL Data Engineer','Software Engineer Staff Scientist: Human Language Technologies','Data Engineer 5 - Contract','Spectral Scientist/Engineer','Data Engineer with R','Lead Data Engineer','Machine Learning Engineer','Weapons and Sensors Engineer/Scientist – Entry Level','Postdoc Scientist - T cell engineering','Data Engineer I - Azure','Sr. Data Engineer | Big Data SaaS Pipeline','Big Data Engineer - Chicago - Future Opportunity'],\n",
    "    value='Data Engineer',\n",
    "    inplace=True\n",
    ")\n",
    "\n",
    "df['Job Title'].replace(\n",
    "    to_replace=['Data Analyst Senior','Sr Data Analyst - IT','Sr. Data Analyst','Senior Data Analyst/Scientist','Jr. Business Data Analyst','Junior Data Analyst','Data Analytics Manager','Senior Data Analyst',\n",
    "                'Marketing Data Analyst, May 2020 Undergrad','Data Science Analyst','Associate Data Analyst','Advanced Analytics Manager','Data Analyst 1, full-time contract worker for up to 12 months','Market Data Analyst','Market Data Analyst ','IT Associate Data Analyst','Corporate Risk Data Analyst (SQL Based) - Milwaukee or','Information Security Data Analyst','Clinical Data Analyst','Products Data Analyst II','Data Analytics Project Manager ','Lead Data Analyst','Digital Marketing & ECommerce Data Analyst','Salesforce Analytics Consultant','Senior Operations Data Analyst, Call Center Operations','Diversity and Inclusion Data Analyst','Systems Engineer II - Data Analyst','Radar Data Analyst','Associate Data Analyst- Graduate Development Program','Analytics - Business Assurance Data Analyst','Business Data Analyst','Data Analyst 2 (Missionary Department)','ATL - Data & Analytics (DA)','Revenue Analytics Manager','Supply Chain Data Analyst','System and Data Analyst','CONSULTANT– DATA ANALYTICS GROUP','Foundational Community Supports Data Analyst','Consultant - Analytics Consulting','Analytics Consultant','Business Data Analyst, SQL','Health Data Analyst/Developer','Financial Data Analyst','Data Analyst II','Web Data Analyst','MSP - Data & Analytics (DA)','Program/Data Analyst','CONSULTANT– DATA ANALYTICS GROUP ','Data Analyst / Scientist','Senior Engineer, Data Management Engineering','Data Analyst 2 (Missionary Department) ','Senior Health Data Analyst, Star Ratings','Data Analyst Level III','Data Analyst Level III ','Data Analyst - Asset Management','Data Analyst, Performance Partnership','Survey Data Analyst','Analytics Manager - Data Mart','Data Analyst Chemist - Quality System Contractor','Analytics Manager','Marketing Data Analyst','Data & Analytics Consultant (NYC)','E-Commerce Data Analyst','Insurance Financial Data Analyst','Lead Health Data Analyst - Front End'],\n",
    "    value='Data Analyst',\n",
    "    inplace=True\n",
    ")\n",
    "\n",
    "df['Job Title'].replace(\n",
    "    to_replace=['BI & Platform Analytics Manager','Business Intelligence Analyst / Developer','Business Intelligence Analyst'],\n",
    "    value='Business Intelligence',\n",
    "    inplace=True\n",
    ")\n",
    "\n",
    "df['Job Title'].replace(\n",
    "    to_replace=['Data Engineer Intern','Data Science Intern'],\n",
    "    value='Intern',\n",
    "    inplace=True\n",
    ")\n",
    "\n",
    "df['Job Title'].value_counts()"
   ]
  },
  {
   "cell_type": "markdown",
   "metadata": {
    "id": "EBaIB8yBJHjS"
   },
   "source": [
    "Segunda coluna, está bastante poluída com strings desnecessárias. Está é uma coluna que traz informações númericas e iremos padronizar para esse tipo de análise. \n",
    "<br/>\n",
    "\n",
    "**Passo a passo:**\n",
    "- Transformar a coluna inicial em duas colunas **Valor Mínimo, Valor Máximo**;\n",
    "- Excluir a coluna inicial **Salary Estimate**;\n",
    "- Excluir os salários que não foram divulgados anualmente;\n",
    "- Limpar as strings;\n",
    "- Mudar o tipo das novas colunas;\n",
    "- Converter o valor para milhares;\n",
    "- Alimentar os valores faltantes com a mediana de cada coluna. "
   ]
  },
  {
   "cell_type": "code",
   "execution_count": 12,
   "metadata": {
    "id": "VpYQ0_paOQxi"
   },
   "outputs": [],
   "source": [
    "# Transformando a coluna 'Salary Estimate' em duas colunas 'Valor Mínimo','Valor Máximo'\n",
    "df[['Valor Mínimo','Valor Máximo']] = df['Salary Estimate'].str.split('-', expand=True)"
   ]
  },
  {
   "cell_type": "code",
   "execution_count": 13,
   "metadata": {
    "id": "huWIJQ8nLAZE"
   },
   "outputs": [],
   "source": [
    "# Excluindo a coluna 'Salary Estimate'\n",
    "df.drop('Salary Estimate', axis=1, inplace=True)"
   ]
  },
  {
   "cell_type": "code",
   "execution_count": 14,
   "metadata": {
    "id": "BnOjZ84rUtt-"
   },
   "outputs": [],
   "source": [
    "# Criando uma lista com o indíce dos salários divulgados por hora.\n",
    "lista_indice = [197, 209, 240, 247, 257, 307, 337, 427, 437, 456, 464, 522, 523, 632, 652, 682, 694, 786, 787, 823, 854, 875, 919, 936]\n",
    "\n",
    "# Excluindo esses indices\n",
    "df = df.drop(lista_indice) "
   ]
  },
  {
   "cell_type": "code",
   "execution_count": 15,
   "metadata": {
    "id": "WLDjROsJQfz3"
   },
   "outputs": [
    {
     "name": "stderr",
     "output_type": "stream",
     "text": [
      "C:\\Users\\MHARCO~1.HUN\\AppData\\Local\\Temp/ipykernel_2552/2709129999.py:4: FutureWarning: The default value of regex will change from True to False in a future version. In addition, single character regular expressions will *not* be treated as literal strings when regex=True.\n",
      "  df['Valor Mínimo'] = df['Valor Mínimo'].str.replace('$','')\n",
      "C:\\Users\\MHARCO~1.HUN\\AppData\\Local\\Temp/ipykernel_2552/2709129999.py:5: FutureWarning: The default value of regex will change from True to False in a future version. In addition, single character regular expressions will *not* be treated as literal strings when regex=True.\n",
      "  df['Valor Máximo'] = df['Valor Máximo'].str.replace('$','')\n",
      "C:\\Users\\MHARCO~1.HUN\\AppData\\Local\\Temp/ipykernel_2552/2709129999.py:6: FutureWarning: The default value of regex will change from True to False in a future version.\n",
      "  df['Valor Máximo'] = df['Valor Máximo'].str.replace('Glassdoor est.','')\n",
      "C:\\Users\\MHARCO~1.HUN\\AppData\\Local\\Temp/ipykernel_2552/2709129999.py:7: FutureWarning: The default value of regex will change from True to False in a future version. In addition, single character regular expressions will *not* be treated as literal strings when regex=True.\n",
      "  df['Valor Máximo'] = df['Valor Máximo'].str.replace('(','')\n",
      "C:\\Users\\MHARCO~1.HUN\\AppData\\Local\\Temp/ipykernel_2552/2709129999.py:8: FutureWarning: The default value of regex will change from True to False in a future version. In addition, single character regular expressions will *not* be treated as literal strings when regex=True.\n",
      "  df['Valor Máximo'] = df['Valor Máximo'].str.replace(')','')\n",
      "C:\\Users\\MHARCO~1.HUN\\AppData\\Local\\Temp/ipykernel_2552/2709129999.py:9: FutureWarning: The default value of regex will change from True to False in a future version.\n",
      "  df['Valor Máximo'] = df['Valor Máximo'].str.replace('Employer est.','')\n"
     ]
    }
   ],
   "source": [
    "# Limpando as colunas 'Valor Mínimo','Valor Máximo'\n",
    "df['Valor Mínimo'] = df['Valor Mínimo'].str.replace('K','')\n",
    "df['Valor Máximo'] = df['Valor Máximo'].str.replace('K','')\n",
    "df['Valor Mínimo'] = df['Valor Mínimo'].str.replace('$','')\n",
    "df['Valor Máximo'] = df['Valor Máximo'].str.replace('$','')\n",
    "df['Valor Máximo'] = df['Valor Máximo'].str.replace('Glassdoor est.','')\n",
    "df['Valor Máximo'] = df['Valor Máximo'].str.replace('(','')\n",
    "df['Valor Máximo'] = df['Valor Máximo'].str.replace(')','')\n",
    "df['Valor Máximo'] = df['Valor Máximo'].str.replace('Employer est.','')\n",
    "df['Valor Mínimo'] = df['Valor Mínimo'].str.replace('Employer Provided Salary:','')"
   ]
  },
  {
   "cell_type": "code",
   "execution_count": 16,
   "metadata": {
    "id": "C_lKBPC9K1JB"
   },
   "outputs": [],
   "source": [
    "# Mudando o type das colunas 'Valor Mínimo','Valor Máximo'\n",
    "df['Valor Máximo'] = df['Valor Máximo'].astype(float)\n",
    "df['Valor Mínimo'] = df['Valor Mínimo'].astype(float)"
   ]
  },
  {
   "cell_type": "code",
   "execution_count": 17,
   "metadata": {
    "id": "EdcultncK3bI"
   },
   "outputs": [],
   "source": [
    "# Convertendo para milhares\n",
    "df['Valor Máximo'] = df['Valor Máximo'].multiply(1000)\n",
    "df['Valor Mínimo'] = df['Valor Mínimo'].multiply(1000)"
   ]
  },
  {
   "cell_type": "code",
   "execution_count": 18,
   "metadata": {
    "id": "FspUlErDK6Ur"
   },
   "outputs": [],
   "source": [
    "# Preenchendo os valores vazios com a mediana\n",
    "df['Valor Máximo'] = df['Valor Máximo'].fillna(df['Valor Máximo'].median())\n",
    "df['Valor Mínimo'] = df['Valor Mínimo'].fillna(df['Valor Mínimo'].median())"
   ]
  },
  {
   "cell_type": "markdown",
   "metadata": {
    "id": "J1kvfvlxLHuN"
   },
   "source": [
    "A coluna **Revenue** já possuia um padrão para dados não divulgados serem preenchidos como **Unknown / Non-Applicable**. \n",
    "<br/>\n",
    "\n",
    "Para preencher os valores faltantes seguiremos o padrão identificado."
   ]
  },
  {
   "cell_type": "code",
   "execution_count": 19,
   "metadata": {
    "id": "UJvejYk50E6Q"
   },
   "outputs": [],
   "source": [
    "# Substituindo os valores vazios por Unknown / Non-Applicable\n",
    "df['Revenue'] = df['Revenue'].fillna('Unknown / Non-Applicable')"
   ]
  },
  {
   "cell_type": "markdown",
   "metadata": {
    "id": "2KWmHVxPMg59"
   },
   "source": [
    "A coluna **Size** já possuia um padrão para dados não divulgados serem preenchidos como **Unknown**.\n",
    "<br/>\n",
    "\n",
    "Para preencher os valores faltantes seguiremos o padrão identificado."
   ]
  },
  {
   "cell_type": "code",
   "execution_count": 20,
   "metadata": {
    "id": "CFr5D2AGLoOJ"
   },
   "outputs": [],
   "source": [
    "# Substituindo os valores vazios por Unknown\n",
    "df['Size'] = df['Size'].fillna('Unknown')"
   ]
  },
  {
   "cell_type": "markdown",
   "metadata": {
    "id": "2DsaqZlXMnfv"
   },
   "source": [
    "A coluna **Type of ownership** já possuia um padrão para dados não divulgados serem preenchidos como **Unknown**.\n",
    "<br/>\n",
    "\n",
    "Para preencher os valores faltantes seguiremos o padrão identificado."
   ]
  },
  {
   "cell_type": "code",
   "execution_count": 21,
   "metadata": {
    "id": "UV4hIaedLn7d"
   },
   "outputs": [],
   "source": [
    "# Substituindo  os valores vazios por Unknown\n",
    "df['Type of ownership'] = df['Type of ownership'].fillna('Unknown')"
   ]
  },
  {
   "cell_type": "markdown",
   "metadata": {
    "id": "albuRB0XMwqP"
   },
   "source": [
    "A coluna **Sector** já possuia um padrão para dados não divulgados serem preenchidos como **Unknown**.\n",
    "<br/>\n",
    "\n",
    "Para preencher os valores faltantes segui o padrão identificado."
   ]
  },
  {
   "cell_type": "code",
   "execution_count": 22,
   "metadata": {
    "id": "XaWkttiCLnnC"
   },
   "outputs": [],
   "source": [
    "# Substituindo  os valores vazios por Unknown\n",
    "df['Sector'] = df['Sector'].fillna('Unknown')"
   ]
  },
  {
   "cell_type": "markdown",
   "metadata": {
    "id": "HW0Q1kQtM0Mg"
   },
   "source": [
    "A coluna **Industry** já possuia um padrão para dados não divulgados serem preenchidos como **Unknown**.\n",
    "<br/>\n",
    "\n",
    "Para preencher os valores faltantes segui o padrão identificado."
   ]
  },
  {
   "cell_type": "code",
   "execution_count": 23,
   "metadata": {
    "id": "Rx0aehu7LnRu"
   },
   "outputs": [],
   "source": [
    "# Substituindo  os valores vazios por Unknown\n",
    "df['Industry'] = df['Industry'].fillna('Unknown')"
   ]
  },
  {
   "cell_type": "markdown",
   "metadata": {
    "id": "JJ1EhUdNM4H7"
   },
   "source": [
    "A coluna **Headquarters** já possuia um padrão para dados não divulgados serem preenchidos como **Unknown**.\n",
    "<br/>\n",
    "\n",
    "Para preencher os valores faltantes segui o padrão identificado."
   ]
  },
  {
   "cell_type": "code",
   "execution_count": 24,
   "metadata": {
    "id": "KzyqkaovLm-C"
   },
   "outputs": [],
   "source": [
    "# Substituindo  os valores vazios por Unknown\n",
    "df['Headquarters'] = df['Headquarters'].fillna('Unknown')"
   ]
  },
  {
   "cell_type": "markdown",
   "metadata": {
    "id": "VGw_g3STNBkp"
   },
   "source": [
    "A coluna **Headquarters** traz duas informações como cidade e estado que podemos separar para tratar e criar análises mais significativas.\n",
    "<br/>\n",
    "\n",
    "**Passo a passo:**\n",
    "- Transformar a coluna inicial em duas colunas **Cidade_HQ, Pais_HQ**;\n",
    "- Excluir a coluna inicial **Headquarters**;\n",
    "- Substituir os valores faltantes pelo padrão identificado;\n",
    "- Substituir as siglas dos estados americanos por USA."
   ]
  },
  {
   "cell_type": "code",
   "execution_count": 25,
   "metadata": {
    "id": "ZXSux1ivLmq4"
   },
   "outputs": [],
   "source": [
    "# Transformando a coluna 'Headquarters' em duas colunas 'Cidade','Pais'\n",
    "df[['Cidade_HQ','Pais_HQ']] = df['Headquarters'].str.split(',', expand=True)\n",
    "\n",
    "# Excluindo a coluna 'Headquarters' porque ela foi dividida em duas colunas\n",
    "df.drop('Headquarters', axis=1, inplace=True)\n",
    "\n",
    "# Substituindo  os valores vazios por Unknown\n",
    "df['Pais_HQ'] = df['Pais_HQ'].fillna('Unknown')\n",
    "\n",
    "# Transformando em paises\n",
    "df[\"Pais_HQ\"].replace(\n",
    "    to_replace=[' CA', ' MD', ' FL', ' WA', ' NY', ' TX', ' VA', ' AR',\n",
    "       ' NJ', ' MA', ' CO', ' ID', ' GA', ' MI', ' IL', ' CT', ' NE', ' AL', ' MO', ' RI',\n",
    "       ' OH', ' PA', ' LA', ' DC', ' MN', ' AZ',' IN', ' SC', ' UT', ' TN', ' WI',\n",
    "       ' AK', ' NV', ' IA', ' NC',' OR', ' PR'],\n",
    "    value='USA',\n",
    "    inplace=True\n",
    ")"
   ]
  },
  {
   "cell_type": "markdown",
   "metadata": {
    "id": "gFiJ3t1De_Ad"
   },
   "source": [
    "Após realizar todas limpezas necessárias, vamos analisar se ainda existem dados faltantes."
   ]
  },
  {
   "cell_type": "code",
   "execution_count": 26,
   "metadata": {
    "colab": {
     "base_uri": "https://localhost:8080/"
    },
    "id": "eml3URSl02Xc",
    "outputId": "b657d597-1ef6-459f-c90a-c06af67e1762"
   },
   "outputs": [
    {
     "data": {
      "text/plain": [
       "Job Title            0\n",
       "Rating               0\n",
       "Location             0\n",
       "Size                 0\n",
       "Founded              0\n",
       "Type of ownership    0\n",
       "Industry             0\n",
       "Sector               0\n",
       "Revenue              0\n",
       "Valor Mínimo         0\n",
       "Valor Máximo         0\n",
       "Cidade_HQ            0\n",
       "Pais_HQ              0\n",
       "dtype: int64"
      ]
     },
     "execution_count": 26,
     "metadata": {},
     "output_type": "execute_result"
    }
   ],
   "source": [
    "# Analisando a quantidade de vezes o NaN aparece em todo o dataset\n",
    "df.isnull().sum()"
   ]
  },
  {
   "cell_type": "markdown",
   "metadata": {
    "id": "hVukbLfJfdP2"
   },
   "source": [
    "Visualizando como ficou o nosso dataset após a etapa de Preparação dos dados."
   ]
  },
  {
   "cell_type": "code",
   "execution_count": 27,
   "metadata": {
    "colab": {
     "base_uri": "https://localhost:8080/",
     "height": 479
    },
    "id": "zpHin9PWdH-v",
    "outputId": "6d3a3504-f17e-4496-e1e4-a4e1dfc11d59"
   },
   "outputs": [
    {
     "data": {
      "text/html": [
       "<div>\n",
       "<style scoped>\n",
       "    .dataframe tbody tr th:only-of-type {\n",
       "        vertical-align: middle;\n",
       "    }\n",
       "\n",
       "    .dataframe tbody tr th {\n",
       "        vertical-align: top;\n",
       "    }\n",
       "\n",
       "    .dataframe thead th {\n",
       "        text-align: right;\n",
       "    }\n",
       "</style>\n",
       "<table border=\"1\" class=\"dataframe\">\n",
       "  <thead>\n",
       "    <tr style=\"text-align: right;\">\n",
       "      <th></th>\n",
       "      <th>Job Title</th>\n",
       "      <th>Rating</th>\n",
       "      <th>Location</th>\n",
       "      <th>Size</th>\n",
       "      <th>Founded</th>\n",
       "      <th>Type of ownership</th>\n",
       "      <th>Industry</th>\n",
       "      <th>Sector</th>\n",
       "      <th>Revenue</th>\n",
       "      <th>Valor Mínimo</th>\n",
       "      <th>Valor Máximo</th>\n",
       "      <th>Cidade_HQ</th>\n",
       "      <th>Pais_HQ</th>\n",
       "    </tr>\n",
       "  </thead>\n",
       "  <tbody>\n",
       "    <tr>\n",
       "      <th>0</th>\n",
       "      <td>Data Scientist</td>\n",
       "      <td>3.8</td>\n",
       "      <td>Albuquerque, NM</td>\n",
       "      <td>501 to 1000 employees</td>\n",
       "      <td>1973</td>\n",
       "      <td>Company - Private</td>\n",
       "      <td>Aerospace &amp; Defense</td>\n",
       "      <td>Aerospace &amp; Defense</td>\n",
       "      <td>$50 to $100 million (USD)</td>\n",
       "      <td>53000.0</td>\n",
       "      <td>91000.0</td>\n",
       "      <td>Goleta</td>\n",
       "      <td>USA</td>\n",
       "    </tr>\n",
       "    <tr>\n",
       "      <th>1</th>\n",
       "      <td>Data Scientist</td>\n",
       "      <td>3.4</td>\n",
       "      <td>Linthicum, MD</td>\n",
       "      <td>10000+ employees</td>\n",
       "      <td>1984</td>\n",
       "      <td>Other Organization</td>\n",
       "      <td>Health Care Services &amp; Hospitals</td>\n",
       "      <td>Health Care</td>\n",
       "      <td>$2 to $5 billion (USD)</td>\n",
       "      <td>63000.0</td>\n",
       "      <td>112000.0</td>\n",
       "      <td>Baltimore</td>\n",
       "      <td>USA</td>\n",
       "    </tr>\n",
       "    <tr>\n",
       "      <th>2</th>\n",
       "      <td>Data Scientist</td>\n",
       "      <td>4.8</td>\n",
       "      <td>Clearwater, FL</td>\n",
       "      <td>501 to 1000 employees</td>\n",
       "      <td>2010</td>\n",
       "      <td>Company - Private</td>\n",
       "      <td>Security Services</td>\n",
       "      <td>Business Services</td>\n",
       "      <td>$100 to $500 million (USD)</td>\n",
       "      <td>80000.0</td>\n",
       "      <td>90000.0</td>\n",
       "      <td>Clearwater</td>\n",
       "      <td>USA</td>\n",
       "    </tr>\n",
       "    <tr>\n",
       "      <th>3</th>\n",
       "      <td>Data Scientist</td>\n",
       "      <td>3.8</td>\n",
       "      <td>Richland, WA</td>\n",
       "      <td>1001 to 5000 employees</td>\n",
       "      <td>1965</td>\n",
       "      <td>Government</td>\n",
       "      <td>Energy</td>\n",
       "      <td>Oil, Gas, Energy &amp; Utilities</td>\n",
       "      <td>$500 million to $1 billion (USD)</td>\n",
       "      <td>56000.0</td>\n",
       "      <td>97000.0</td>\n",
       "      <td>Richland</td>\n",
       "      <td>USA</td>\n",
       "    </tr>\n",
       "    <tr>\n",
       "      <th>4</th>\n",
       "      <td>Data Scientist</td>\n",
       "      <td>2.9</td>\n",
       "      <td>New York, NY</td>\n",
       "      <td>51 to 200 employees</td>\n",
       "      <td>1998</td>\n",
       "      <td>Company - Private</td>\n",
       "      <td>Advertising &amp; Marketing</td>\n",
       "      <td>Business Services</td>\n",
       "      <td>Unknown / Non-Applicable</td>\n",
       "      <td>86000.0</td>\n",
       "      <td>143000.0</td>\n",
       "      <td>New York</td>\n",
       "      <td>USA</td>\n",
       "    </tr>\n",
       "  </tbody>\n",
       "</table>\n",
       "</div>"
      ],
      "text/plain": [
       "        Job Title  Rating         Location                    Size  Founded  \\\n",
       "0  Data Scientist     3.8  Albuquerque, NM   501 to 1000 employees     1973   \n",
       "1  Data Scientist     3.4    Linthicum, MD        10000+ employees     1984   \n",
       "2  Data Scientist     4.8   Clearwater, FL   501 to 1000 employees     2010   \n",
       "3  Data Scientist     3.8     Richland, WA  1001 to 5000 employees     1965   \n",
       "4  Data Scientist     2.9     New York, NY     51 to 200 employees     1998   \n",
       "\n",
       "    Type of ownership                          Industry  \\\n",
       "0   Company - Private               Aerospace & Defense   \n",
       "1  Other Organization  Health Care Services & Hospitals   \n",
       "2   Company - Private                 Security Services   \n",
       "3          Government                            Energy   \n",
       "4   Company - Private           Advertising & Marketing   \n",
       "\n",
       "                         Sector                           Revenue  \\\n",
       "0           Aerospace & Defense         $50 to $100 million (USD)   \n",
       "1                   Health Care            $2 to $5 billion (USD)   \n",
       "2             Business Services        $100 to $500 million (USD)   \n",
       "3  Oil, Gas, Energy & Utilities  $500 million to $1 billion (USD)   \n",
       "4             Business Services          Unknown / Non-Applicable   \n",
       "\n",
       "   Valor Mínimo  Valor Máximo   Cidade_HQ Pais_HQ  \n",
       "0       53000.0       91000.0      Goleta     USA  \n",
       "1       63000.0      112000.0   Baltimore     USA  \n",
       "2       80000.0       90000.0  Clearwater     USA  \n",
       "3       56000.0       97000.0    Richland     USA  \n",
       "4       86000.0      143000.0    New York     USA  "
      ]
     },
     "execution_count": 27,
     "metadata": {},
     "output_type": "execute_result"
    }
   ],
   "source": [
    "# Visualisando as primeiras 5 linhas do dataset \n",
    "df.head()"
   ]
  },
  {
   "cell_type": "markdown",
   "metadata": {},
   "source": [
    "\n",
    "\n",
    "---\n",
    "\n",
    "\n",
    "\n",
    "---\n",
    "\n"
   ]
  },
  {
   "cell_type": "markdown",
   "metadata": {
    "id": "YmPpNPJS12H7"
   },
   "source": [
    "## 05. Análise exploratória:"
   ]
  },
  {
   "cell_type": "markdown",
   "metadata": {
    "id": "m4OID8Bd1Q7P"
   },
   "source": [
    "**Análise exploratória:** Com os dados coletados e preparados para análise. Chegou o momento de explorar os dados de duas formas. A primeira é analisando as estatísticas descritivas, como o nome sugere, descreve os dados em termos de estatísticas - média, desvio padrão, quantis, etc. A segunda é através de visualizações gráficas.\n",
    "<br/>\n",
    "\n",
    "As visualizações de dados são muito importantes porque são a maneira mais rápida de conhecer os dados e os padrões - se eles existem ou não. As visualizações usando Matplotlib, Seaborn podem ser usadas para verificar as correlações, gráficos de dispersão de dados, histogramas e boxplots para verificar a propagação e assimetrias.\n"
   ]
  },
  {
   "cell_type": "markdown",
   "metadata": {
    "id": "IVvDZ6fihuCi"
   },
   "source": [
    "Primeiro, realizaremos uma análise descritiva geral do dataset. "
   ]
  },
  {
   "cell_type": "code",
   "execution_count": 31,
   "metadata": {
    "colab": {
     "base_uri": "https://localhost:8080/",
     "height": 227
    },
    "id": "8Eyv0lFuE-ex",
    "outputId": "cf78583d-a90d-4e4f-e4a4-49d73a711bf6"
   },
   "outputs": [
    {
     "data": {
      "text/html": [
       "<div>\n",
       "<style scoped>\n",
       "    .dataframe tbody tr th:only-of-type {\n",
       "        vertical-align: middle;\n",
       "    }\n",
       "\n",
       "    .dataframe tbody tr th {\n",
       "        vertical-align: top;\n",
       "    }\n",
       "\n",
       "    .dataframe thead th {\n",
       "        text-align: right;\n",
       "    }\n",
       "</style>\n",
       "<table border=\"1\" class=\"dataframe\">\n",
       "  <thead>\n",
       "    <tr style=\"text-align: right;\">\n",
       "      <th></th>\n",
       "      <th>count</th>\n",
       "      <th>mean</th>\n",
       "      <th>std</th>\n",
       "      <th>min</th>\n",
       "      <th>25%</th>\n",
       "      <th>50%</th>\n",
       "      <th>75%</th>\n",
       "      <th>max</th>\n",
       "    </tr>\n",
       "  </thead>\n",
       "  <tbody>\n",
       "    <tr>\n",
       "      <th>Rating</th>\n",
       "      <td>932.0</td>\n",
       "      <td>3.603004</td>\n",
       "      <td>1.079818</td>\n",
       "      <td>-1.0</td>\n",
       "      <td>3.3</td>\n",
       "      <td>3.8</td>\n",
       "      <td>4.2</td>\n",
       "      <td>5.0</td>\n",
       "    </tr>\n",
       "    <tr>\n",
       "      <th>Founded</th>\n",
       "      <td>932.0</td>\n",
       "      <td>1769.543991</td>\n",
       "      <td>605.754504</td>\n",
       "      <td>-1.0</td>\n",
       "      <td>1938.5</td>\n",
       "      <td>1993.0</td>\n",
       "      <td>2008.0</td>\n",
       "      <td>2019.0</td>\n",
       "    </tr>\n",
       "    <tr>\n",
       "      <th>Valor Mínimo</th>\n",
       "      <td>932.0</td>\n",
       "      <td>74753.218884</td>\n",
       "      <td>27103.240585</td>\n",
       "      <td>15000.0</td>\n",
       "      <td>60000.0</td>\n",
       "      <td>71000.0</td>\n",
       "      <td>84250.0</td>\n",
       "      <td>202000.0</td>\n",
       "    </tr>\n",
       "    <tr>\n",
       "      <th>Valor Máximo</th>\n",
       "      <td>932.0</td>\n",
       "      <td>129417.381974</td>\n",
       "      <td>38747.227314</td>\n",
       "      <td>16000.0</td>\n",
       "      <td>109000.0</td>\n",
       "      <td>126000.0</td>\n",
       "      <td>144000.0</td>\n",
       "      <td>306000.0</td>\n",
       "    </tr>\n",
       "  </tbody>\n",
       "</table>\n",
       "</div>"
      ],
      "text/plain": [
       "              count           mean           std      min       25%       50%  \\\n",
       "Rating        932.0       3.603004      1.079818     -1.0       3.3       3.8   \n",
       "Founded       932.0    1769.543991    605.754504     -1.0    1938.5    1993.0   \n",
       "Valor Mínimo  932.0   74753.218884  27103.240585  15000.0   60000.0   71000.0   \n",
       "Valor Máximo  932.0  129417.381974  38747.227314  16000.0  109000.0  126000.0   \n",
       "\n",
       "                   75%       max  \n",
       "Rating             4.2       5.0  \n",
       "Founded         2008.0    2019.0  \n",
       "Valor Mínimo   84250.0  202000.0  \n",
       "Valor Máximo  144000.0  306000.0  "
      ]
     },
     "execution_count": 31,
     "metadata": {},
     "output_type": "execute_result"
    }
   ],
   "source": [
    "# Realizando uma análise descritiva dos dados númericos\n",
    "df.describe().T"
   ]
  },
  {
   "cell_type": "markdown",
   "metadata": {
    "id": "v0-h4YWWh7OT"
   },
   "source": [
    "Independente de qualquer outra variável, vamos identificar o maior salário e o menor salário do nosso dataset."
   ]
  },
  {
   "cell_type": "code",
   "execution_count": 32,
   "metadata": {
    "colab": {
     "base_uri": "https://localhost:8080/"
    },
    "id": "RnJ4ydFjWtIE",
    "outputId": "389ce1dd-8ce7-4632-aa15-f431b8c9825d"
   },
   "outputs": [
    {
     "name": "stdout",
     "output_type": "stream",
     "text": [
      "O maior salário é $ 306000.0  e o menor salário é $ 15000.0\n"
     ]
    }
   ],
   "source": [
    "# Analisando o maior e menor salário independente da função.\n",
    "print('O maior salário é $ {}  e o menor salário é $ {}'.format(df['Valor Máximo'].max(), df['Valor Mínimo'].min() ))"
   ]
  },
  {
   "cell_type": "markdown",
   "metadata": {
    "id": "FwQab5-3i5E1"
   },
   "source": [
    "Como será que o **Valor Máximo** e **Valor Mínimo** se compartam agrupados pelo **Job Title**\n"
   ]
  },
  {
   "cell_type": "code",
   "execution_count": 33,
   "metadata": {
    "colab": {
     "base_uri": "https://localhost:8080/",
     "height": 388
    },
    "id": "ppu_EpvL1AEN",
    "outputId": "659c2918-29ce-4d79-989e-f12e383dac42"
   },
   "outputs": [
    {
     "name": "stderr",
     "output_type": "stream",
     "text": [
      "C:\\Users\\MHARCO~1.HUN\\AppData\\Local\\Temp/ipykernel_2552/71867527.py:2: FutureWarning: Indexing with multiple keys (implicitly converted to a tuple of keys) will be deprecated, use a list instead.\n",
      "  df.groupby('Job Title')['Valor Mínimo', 'Valor Máximo'].agg(['max', 'min'])\n"
     ]
    },
    {
     "data": {
      "text/html": [
       "<div>\n",
       "<style scoped>\n",
       "    .dataframe tbody tr th:only-of-type {\n",
       "        vertical-align: middle;\n",
       "    }\n",
       "\n",
       "    .dataframe tbody tr th {\n",
       "        vertical-align: top;\n",
       "    }\n",
       "\n",
       "    .dataframe thead tr th {\n",
       "        text-align: left;\n",
       "    }\n",
       "\n",
       "    .dataframe thead tr:last-of-type th {\n",
       "        text-align: right;\n",
       "    }\n",
       "</style>\n",
       "<table border=\"1\" class=\"dataframe\">\n",
       "  <thead>\n",
       "    <tr>\n",
       "      <th></th>\n",
       "      <th colspan=\"2\" halign=\"left\">Valor Mínimo</th>\n",
       "      <th colspan=\"2\" halign=\"left\">Valor Máximo</th>\n",
       "    </tr>\n",
       "    <tr>\n",
       "      <th></th>\n",
       "      <th>max</th>\n",
       "      <th>min</th>\n",
       "      <th>max</th>\n",
       "      <th>min</th>\n",
       "    </tr>\n",
       "    <tr>\n",
       "      <th>Job Title</th>\n",
       "      <th></th>\n",
       "      <th></th>\n",
       "      <th></th>\n",
       "      <th></th>\n",
       "    </tr>\n",
       "  </thead>\n",
       "  <tbody>\n",
       "    <tr>\n",
       "      <th>Business Intelligence</th>\n",
       "      <td>85000.0</td>\n",
       "      <td>53000.0</td>\n",
       "      <td>134000.0</td>\n",
       "      <td>105000.0</td>\n",
       "    </tr>\n",
       "    <tr>\n",
       "      <th>Data Analyst</th>\n",
       "      <td>99000.0</td>\n",
       "      <td>20000.0</td>\n",
       "      <td>178000.0</td>\n",
       "      <td>39000.0</td>\n",
       "    </tr>\n",
       "    <tr>\n",
       "      <th>Data Engineer</th>\n",
       "      <td>202000.0</td>\n",
       "      <td>37000.0</td>\n",
       "      <td>306000.0</td>\n",
       "      <td>66000.0</td>\n",
       "    </tr>\n",
       "    <tr>\n",
       "      <th>Data Scientist</th>\n",
       "      <td>200000.0</td>\n",
       "      <td>15000.0</td>\n",
       "      <td>289000.0</td>\n",
       "      <td>16000.0</td>\n",
       "    </tr>\n",
       "    <tr>\n",
       "      <th>Intern</th>\n",
       "      <td>71000.0</td>\n",
       "      <td>71000.0</td>\n",
       "      <td>126000.0</td>\n",
       "      <td>126000.0</td>\n",
       "    </tr>\n",
       "  </tbody>\n",
       "</table>\n",
       "</div>"
      ],
      "text/plain": [
       "                      Valor Mínimo          Valor Máximo          \n",
       "                               max      min          max       min\n",
       "Job Title                                                         \n",
       "Business Intelligence      85000.0  53000.0     134000.0  105000.0\n",
       "Data Analyst               99000.0  20000.0     178000.0   39000.0\n",
       "Data Engineer             202000.0  37000.0     306000.0   66000.0\n",
       "Data Scientist            200000.0  15000.0     289000.0   16000.0\n",
       "Intern                     71000.0  71000.0     126000.0  126000.0"
      ]
     },
     "execution_count": 33,
     "metadata": {},
     "output_type": "execute_result"
    }
   ],
   "source": [
    "# Analisando max e min por Job Title\n",
    "df.groupby('Job Title')['Valor Mínimo', 'Valor Máximo'].agg(['max', 'min'])\n"
   ]
  },
  {
   "cell_type": "markdown",
   "metadata": {
    "id": "tbKPM4skj2Ox"
   },
   "source": [
    "- No grupo **Business Intelligence** temos uma variação de\n",
    "aproximadamente **30000.0** em ambas variáveis.\n",
    "\n",
    "- No grupo **Data Analyst** temos uma variação de\n",
    "aproximadamente **70000.0** no **Valor Mínimo** e **140000.0**\n",
    "no **Valor Máximo**. Aprox. o dobro de variação entre as variáveis.\n",
    "\n",
    "- No grupo **Data Engineer** tem os maiores valores máximos e uma\n",
    "variação de aproximadamente **160000.0** no **Valor Mínimo** e **140000.0** no **Valor Máximo**.\n",
    "\n",
    "- No grupo **Data Scientist** temos a maior variação de um grupo. Uma\n",
    "variação de aproximadamente **185000.0** no **Valor Mínimo** e **270000.0** no **Valor Máximo**.\n",
    "\n",
    "- Podemos verificar que não existe variação no grupo **Intern**\n",
    "devido os poucos salários coletados nesse grupo.  \n"
   ]
  },
  {
   "cell_type": "markdown",
   "metadata": {
    "id": "6kbVwifcofsm"
   },
   "source": [
    "Vamos analisar os valores máximo e mínimo de cada coluna de salário agrupados pelo cargo e tamanho.\n",
    "<br/>\n",
    "\n",
    "Objetivo é identificar como os valores se comportam agrupando por duas variáveis."
   ]
  },
  {
   "cell_type": "code",
   "execution_count": 34,
   "metadata": {
    "colab": {
     "base_uri": "https://localhost:8080/",
     "height": 1000
    },
    "id": "xcDQxhRnAFgm",
    "outputId": "5aef6a5d-373f-4a1e-e4e2-cabd6403e87c"
   },
   "outputs": [
    {
     "name": "stderr",
     "output_type": "stream",
     "text": [
      "C:\\Users\\MHARCO~1.HUN\\AppData\\Local\\Temp/ipykernel_2552/321658816.py:2: FutureWarning: Indexing with multiple keys (implicitly converted to a tuple of keys) will be deprecated, use a list instead.\n",
      "  df.groupby(['Job Title', 'Size'])['Valor Mínimo', 'Valor Máximo'].mean()\n"
     ]
    },
    {
     "data": {
      "text/html": [
       "<div>\n",
       "<style scoped>\n",
       "    .dataframe tbody tr th:only-of-type {\n",
       "        vertical-align: middle;\n",
       "    }\n",
       "\n",
       "    .dataframe tbody tr th {\n",
       "        vertical-align: top;\n",
       "    }\n",
       "\n",
       "    .dataframe thead th {\n",
       "        text-align: right;\n",
       "    }\n",
       "</style>\n",
       "<table border=\"1\" class=\"dataframe\">\n",
       "  <thead>\n",
       "    <tr style=\"text-align: right;\">\n",
       "      <th></th>\n",
       "      <th></th>\n",
       "      <th>Valor Mínimo</th>\n",
       "      <th>Valor Máximo</th>\n",
       "    </tr>\n",
       "    <tr>\n",
       "      <th>Job Title</th>\n",
       "      <th>Size</th>\n",
       "      <th></th>\n",
       "      <th></th>\n",
       "    </tr>\n",
       "  </thead>\n",
       "  <tbody>\n",
       "    <tr>\n",
       "      <th rowspan=\"3\" valign=\"top\">Business Intelligence</th>\n",
       "      <th>1001 to 5000 employees</th>\n",
       "      <td>72666.666667</td>\n",
       "      <td>125166.666667</td>\n",
       "    </tr>\n",
       "    <tr>\n",
       "      <th>201 to 500 employees</th>\n",
       "      <td>71000.000000</td>\n",
       "      <td>126000.000000</td>\n",
       "    </tr>\n",
       "    <tr>\n",
       "      <th>501 to 1000 employees</th>\n",
       "      <td>71000.000000</td>\n",
       "      <td>126000.000000</td>\n",
       "    </tr>\n",
       "    <tr>\n",
       "      <th rowspan=\"7\" valign=\"top\">Data Analyst</th>\n",
       "      <th>1 to 50 employees</th>\n",
       "      <td>59833.333333</td>\n",
       "      <td>104833.333333</td>\n",
       "    </tr>\n",
       "    <tr>\n",
       "      <th>10000+ employees</th>\n",
       "      <td>49538.461538</td>\n",
       "      <td>82000.000000</td>\n",
       "    </tr>\n",
       "    <tr>\n",
       "      <th>1001 to 5000 employees</th>\n",
       "      <td>48538.461538</td>\n",
       "      <td>88653.846154</td>\n",
       "    </tr>\n",
       "    <tr>\n",
       "      <th>201 to 500 employees</th>\n",
       "      <td>53185.185185</td>\n",
       "      <td>95481.481481</td>\n",
       "    </tr>\n",
       "    <tr>\n",
       "      <th>5001 to 10000 employees</th>\n",
       "      <td>45666.666667</td>\n",
       "      <td>80555.555556</td>\n",
       "    </tr>\n",
       "    <tr>\n",
       "      <th>501 to 1000 employees</th>\n",
       "      <td>42535.714286</td>\n",
       "      <td>76928.571429</td>\n",
       "    </tr>\n",
       "    <tr>\n",
       "      <th>51 to 200 employees</th>\n",
       "      <td>58727.272727</td>\n",
       "      <td>106818.181818</td>\n",
       "    </tr>\n",
       "    <tr>\n",
       "      <th rowspan=\"8\" valign=\"top\">Data Engineer</th>\n",
       "      <th>1 to 50 employees</th>\n",
       "      <td>70312.500000</td>\n",
       "      <td>128250.000000</td>\n",
       "    </tr>\n",
       "    <tr>\n",
       "      <th>10000+ employees</th>\n",
       "      <td>84769.230769</td>\n",
       "      <td>147076.923077</td>\n",
       "    </tr>\n",
       "    <tr>\n",
       "      <th>1001 to 5000 employees</th>\n",
       "      <td>76322.580645</td>\n",
       "      <td>137774.193548</td>\n",
       "    </tr>\n",
       "    <tr>\n",
       "      <th>201 to 500 employees</th>\n",
       "      <td>80222.222222</td>\n",
       "      <td>140481.481481</td>\n",
       "    </tr>\n",
       "    <tr>\n",
       "      <th>5001 to 10000 employees</th>\n",
       "      <td>74333.333333</td>\n",
       "      <td>134055.555556</td>\n",
       "    </tr>\n",
       "    <tr>\n",
       "      <th>501 to 1000 employees</th>\n",
       "      <td>63925.925926</td>\n",
       "      <td>112962.962963</td>\n",
       "    </tr>\n",
       "    <tr>\n",
       "      <th>51 to 200 employees</th>\n",
       "      <td>81883.720930</td>\n",
       "      <td>139069.767442</td>\n",
       "    </tr>\n",
       "    <tr>\n",
       "      <th>Unknown</th>\n",
       "      <td>71000.000000</td>\n",
       "      <td>126000.000000</td>\n",
       "    </tr>\n",
       "    <tr>\n",
       "      <th rowspan=\"8\" valign=\"top\">Data Scientist</th>\n",
       "      <th>1 to 50 employees</th>\n",
       "      <td>81277.777778</td>\n",
       "      <td>138972.222222</td>\n",
       "    </tr>\n",
       "    <tr>\n",
       "      <th>10000+ employees</th>\n",
       "      <td>85848.214286</td>\n",
       "      <td>146562.500000</td>\n",
       "    </tr>\n",
       "    <tr>\n",
       "      <th>1001 to 5000 employees</th>\n",
       "      <td>74903.846154</td>\n",
       "      <td>129913.461538</td>\n",
       "    </tr>\n",
       "    <tr>\n",
       "      <th>201 to 500 employees</th>\n",
       "      <td>74650.000000</td>\n",
       "      <td>133090.000000</td>\n",
       "    </tr>\n",
       "    <tr>\n",
       "      <th>5001 to 10000 employees</th>\n",
       "      <td>77208.333333</td>\n",
       "      <td>136208.333333</td>\n",
       "    </tr>\n",
       "    <tr>\n",
       "      <th>501 to 1000 employees</th>\n",
       "      <td>77172.839506</td>\n",
       "      <td>132666.666667</td>\n",
       "    </tr>\n",
       "    <tr>\n",
       "      <th>51 to 200 employees</th>\n",
       "      <td>83306.818182</td>\n",
       "      <td>138704.545455</td>\n",
       "    </tr>\n",
       "    <tr>\n",
       "      <th>Unknown</th>\n",
       "      <td>88125.000000</td>\n",
       "      <td>132666.666667</td>\n",
       "    </tr>\n",
       "    <tr>\n",
       "      <th rowspan=\"2\" valign=\"top\">Intern</th>\n",
       "      <th>201 to 500 employees</th>\n",
       "      <td>71000.000000</td>\n",
       "      <td>126000.000000</td>\n",
       "    </tr>\n",
       "    <tr>\n",
       "      <th>51 to 200 employees</th>\n",
       "      <td>71000.000000</td>\n",
       "      <td>126000.000000</td>\n",
       "    </tr>\n",
       "  </tbody>\n",
       "</table>\n",
       "</div>"
      ],
      "text/plain": [
       "                                               Valor Mínimo   Valor Máximo\n",
       "Job Title             Size                                                \n",
       "Business Intelligence 1001 to 5000 employees   72666.666667  125166.666667\n",
       "                      201 to 500 employees     71000.000000  126000.000000\n",
       "                      501 to 1000 employees    71000.000000  126000.000000\n",
       "Data Analyst          1 to 50 employees        59833.333333  104833.333333\n",
       "                      10000+ employees         49538.461538   82000.000000\n",
       "                      1001 to 5000 employees   48538.461538   88653.846154\n",
       "                      201 to 500 employees     53185.185185   95481.481481\n",
       "                      5001 to 10000 employees  45666.666667   80555.555556\n",
       "                      501 to 1000 employees    42535.714286   76928.571429\n",
       "                      51 to 200 employees      58727.272727  106818.181818\n",
       "Data Engineer         1 to 50 employees        70312.500000  128250.000000\n",
       "                      10000+ employees         84769.230769  147076.923077\n",
       "                      1001 to 5000 employees   76322.580645  137774.193548\n",
       "                      201 to 500 employees     80222.222222  140481.481481\n",
       "                      5001 to 10000 employees  74333.333333  134055.555556\n",
       "                      501 to 1000 employees    63925.925926  112962.962963\n",
       "                      51 to 200 employees      81883.720930  139069.767442\n",
       "                      Unknown                  71000.000000  126000.000000\n",
       "Data Scientist        1 to 50 employees        81277.777778  138972.222222\n",
       "                      10000+ employees         85848.214286  146562.500000\n",
       "                      1001 to 5000 employees   74903.846154  129913.461538\n",
       "                      201 to 500 employees     74650.000000  133090.000000\n",
       "                      5001 to 10000 employees  77208.333333  136208.333333\n",
       "                      501 to 1000 employees    77172.839506  132666.666667\n",
       "                      51 to 200 employees      83306.818182  138704.545455\n",
       "                      Unknown                  88125.000000  132666.666667\n",
       "Intern                201 to 500 employees     71000.000000  126000.000000\n",
       "                      51 to 200 employees      71000.000000  126000.000000"
      ]
     },
     "execution_count": 34,
     "metadata": {},
     "output_type": "execute_result"
    }
   ],
   "source": [
    "# Analisando a média por Job Title e Size\n",
    "df.groupby(['Job Title', 'Size'])['Valor Mínimo', 'Valor Máximo'].mean()"
   ]
  },
  {
   "cell_type": "markdown",
   "metadata": {
    "id": "82CdQrl-pB10"
   },
   "source": [
    "**Observações:**\n",
    "\n",
    "- Os menores valores no grupo **Data Engineer** não foram informado o tamanho da empresa e os valores coincidem com os valores do grupo **Intern**.\n",
    "\n",
    "- O tamanho da empresa em relação a número de funcionários em alguns casos não tem muita relação com o salário ofertado. Por exemplo, o grupo **DataEngineer** com **1 to 50 employees** tem média salárial maior do que com **501 to 1000 employees**. Essa não padronização se \n",
    "repete  no grupo **Data Scientist** com **1 to 50 employees** e **1001 to 5000 employees** em que a empresa com menos funcionários oferta um salário maior."
   ]
  },
  {
   "cell_type": "markdown",
   "metadata": {
    "id": "8VP2iP5wvgVU"
   },
   "source": [
    "Analisando as principais medidas das colunas de salário."
   ]
  },
  {
   "cell_type": "code",
   "execution_count": 35,
   "metadata": {
    "colab": {
     "base_uri": "https://localhost:8080/",
     "height": 165
    },
    "id": "MVaiKzoTuiv_",
    "outputId": "f821d81d-daf4-4b59-c0ce-95d326b3dd31"
   },
   "outputs": [
    {
     "data": {
      "text/html": [
       "<div>\n",
       "<style scoped>\n",
       "    .dataframe tbody tr th:only-of-type {\n",
       "        vertical-align: middle;\n",
       "    }\n",
       "\n",
       "    .dataframe tbody tr th {\n",
       "        vertical-align: top;\n",
       "    }\n",
       "\n",
       "    .dataframe thead th {\n",
       "        text-align: right;\n",
       "    }\n",
       "</style>\n",
       "<table border=\"1\" class=\"dataframe\">\n",
       "  <thead>\n",
       "    <tr style=\"text-align: right;\">\n",
       "      <th></th>\n",
       "      <th>count</th>\n",
       "      <th>mean</th>\n",
       "      <th>std</th>\n",
       "      <th>min</th>\n",
       "      <th>25%</th>\n",
       "      <th>50%</th>\n",
       "      <th>75%</th>\n",
       "      <th>max</th>\n",
       "    </tr>\n",
       "  </thead>\n",
       "  <tbody>\n",
       "    <tr>\n",
       "      <th>Valor Mínimo</th>\n",
       "      <td>932.0</td>\n",
       "      <td>74753.218884</td>\n",
       "      <td>27103.240585</td>\n",
       "      <td>15000.0</td>\n",
       "      <td>60000.0</td>\n",
       "      <td>71000.0</td>\n",
       "      <td>84250.0</td>\n",
       "      <td>202000.0</td>\n",
       "    </tr>\n",
       "    <tr>\n",
       "      <th>Valor Máximo</th>\n",
       "      <td>932.0</td>\n",
       "      <td>129417.381974</td>\n",
       "      <td>38747.227314</td>\n",
       "      <td>16000.0</td>\n",
       "      <td>109000.0</td>\n",
       "      <td>126000.0</td>\n",
       "      <td>144000.0</td>\n",
       "      <td>306000.0</td>\n",
       "    </tr>\n",
       "  </tbody>\n",
       "</table>\n",
       "</div>"
      ],
      "text/plain": [
       "              count           mean           std      min       25%       50%  \\\n",
       "Valor Mínimo  932.0   74753.218884  27103.240585  15000.0   60000.0   71000.0   \n",
       "Valor Máximo  932.0  129417.381974  38747.227314  16000.0  109000.0  126000.0   \n",
       "\n",
       "                   75%       max  \n",
       "Valor Mínimo   84250.0  202000.0  \n",
       "Valor Máximo  144000.0  306000.0  "
      ]
     },
     "execution_count": 35,
     "metadata": {},
     "output_type": "execute_result"
    }
   ],
   "source": [
    "# Analisando as principais medidas das colunas\n",
    "df[['Valor Mínimo','Valor Máximo']].describe().T"
   ]
  },
  {
   "cell_type": "markdown",
   "metadata": {
    "id": "cTCzHZpUwDw6"
   },
   "source": [
    "Conseguimos identificar que nos 25% maiores valores que existe uma crescente dos salários."
   ]
  },
  {
   "cell_type": "markdown",
   "metadata": {
    "id": "6a8xHzaGwiRR"
   },
   "source": [
    "Vamos iniciar as análises gráficas.\n",
    "<br/>\n",
    "\n",
    "Primeiro padronizando as cores de cada coluna. "
   ]
  },
  {
   "cell_type": "code",
   "execution_count": 36,
   "metadata": {
    "id": "Tt4jHy2jkerU"
   },
   "outputs": [],
   "source": [
    "# Padronizando as cores \n",
    "cor_valor_maximo =  \"r\"\n",
    "cor_valor_minimo =  \"b\""
   ]
  },
  {
   "cell_type": "markdown",
   "metadata": {
    "id": "uuInWs56w1SM"
   },
   "source": [
    "No primeiro gráfico de histograma o objetivo é identificar onde concentra a maior quantidade de salários."
   ]
  },
  {
   "cell_type": "code",
   "execution_count": 37,
   "metadata": {
    "colab": {
     "base_uri": "https://localhost:8080/",
     "height": 54
    },
    "id": "dfBjIMpMam-s",
    "outputId": "0e7803ce-861a-42cd-c530-0bbc30a1e104"
   },
   "outputs": [
    {
     "data": {
      "image/png": "[encoded data removed]",
      "text/plain": [
       "<Figure size 432x288 with 1 Axes>"
      ]
     },
     "metadata": {},
     "output_type": "display_data"
    }
   ],
   "source": [
    "# Aplicando um estilo aos plots\n",
    "plt.style.use(\"ggplot\")\n",
    "\n",
    "# Criando gráfico\n",
    "plt.hist(df['Valor Máximo'],ec = \"k\", label= 'Valor Máximo', alpha= 0.5, color = cor_valor_maximo)\n",
    "plt.hist(df['Valor Mínimo'],ec = \"k\", label= 'Valor Mínimo', alpha= 0.5, color = cor_valor_minimo)\n",
    "\n",
    "# Colocando a legenda no melhor lugar\n",
    "plt.legend(loc='best')\n",
    "\n",
    "# Mostrando gráfico\n",
    "plt.show()"
   ]
  },
  {
   "cell_type": "markdown",
   "metadata": {
    "id": "Ohr5jogYbuvN"
   },
   "source": [
    "**Observações:**\n",
    "\n",
    "Conseguimos identificar que a maior concentração de **Valor Máximo** está entre **100000** e **150000**. Quando analisamos a concentração de **Valor Mínimo** observamos que fica entre **50000** e **90000**."
   ]
  },
  {
   "cell_type": "markdown",
   "metadata": {
    "id": "yJ0BT5j5xSTz"
   },
   "source": [
    "No próximo gráficos o objetivo é visualizar como os valores estão distribuidos mais claramente."
   ]
  },
  {
   "cell_type": "code",
   "execution_count": 38,
   "metadata": {
    "colab": {
     "base_uri": "https://localhost:8080/",
     "height": 54
    },
    "id": "VSS5fPqVeFIF",
    "outputId": "98d8296f-3c21-4b6f-86e7-7249dad0afd0"
   },
   "outputs": [
    {
     "data": {
      "image/png": "[encoded data removed]",
      "text/plain": [
       "<Figure size 1296x576 with 1 Axes>"
      ]
     },
     "metadata": {},
     "output_type": "display_data"
    }
   ],
   "source": [
    "# Configurando tamanho da figura\n",
    "plt.figure(figsize=(18,8))\n",
    "\n",
    "# Criando gráfico\n",
    "g3 = sns.kdeplot(df['Valor Mínimo'], label = 'Valor Mínimo', shade = True)\n",
    "g3 = sns.kdeplot(df['Valor Máximo'], label = 'Valor Máximo', shade = True)\n",
    "\n",
    "# Criando titulo\n",
    "plt.title('Salários',\n",
    "               pad = 20,\n",
    "         fontsize = 13, color ='dimgrey', fontweight = 'bold')\n",
    "\n",
    "sns.despine(bottom = True, left=True)\n",
    "\n",
    "# Padronizando as legendas\n",
    "plt.xlabel('Valor', color = 'grey', labelpad = 20, fontsize = 8)\n",
    "\n",
    "\n",
    "g3.tick_params(axis ='y', labelsize=0, length = 0)\n",
    "g3.set_yticklabels([])\n",
    "plt.ylabel([], fontsize =0)\n",
    "\n",
    "g3 = plt.legend()"
   ]
  },
  {
   "cell_type": "markdown",
   "metadata": {
    "id": "vcV9EpvagHBI"
   },
   "source": [
    "**Observações:**\n",
    "\n",
    "Seguindo nosso objetivo com o gráfico, identificamos que a coluna de **Valores Máximo** são mais **\"distribuídos\"** do que os **Valores Mínimos** e que a concentração de valores em vermelho tem uma concentração significativa nos valores entre **5000.0** e **10000.0**."
   ]
  },
  {
   "cell_type": "markdown",
   "metadata": {
    "id": "lax3DnRPxi7W"
   },
   "source": [
    "Vamos visualizar graficamente qual cargo tem o maior salário e qual tem o menor. "
   ]
  },
  {
   "cell_type": "code",
   "execution_count": 39,
   "metadata": {
    "colab": {
     "base_uri": "https://localhost:8080/",
     "height": 71
    },
    "id": "J9JBBafw3qMw",
    "outputId": "a220a136-810c-425b-96c6-429cae040778"
   },
   "outputs": [
    {
     "data": {
      "text/plain": [
       "(array([0, 1, 2, 3, 4]),\n",
       " [Text(0, 0, 'Data Scientist'),\n",
       "  Text(1, 0, 'Data Engineer'),\n",
       "  Text(2, 0, 'Business Intelligence'),\n",
       "  Text(3, 0, 'Intern'),\n",
       "  Text(4, 0, 'Data Analyst')])"
      ]
     },
     "execution_count": 39,
     "metadata": {},
     "output_type": "execute_result"
    },
    {
     "data": {
      "image/png": "[encoded data removed]",
      "text/plain": [
       "<Figure size 1440x1440 with 2 Axes>"
      ]
     },
     "metadata": {},
     "output_type": "display_data"
    }
   ],
   "source": [
    "funcoes_order = ['Data Scientist',\n",
    "    'Data Engineer',\n",
    "    'Business Intelligence',\n",
    "    'Intern',\n",
    "    'Data Analyst'\n",
    "]\n",
    "\n",
    "# Criando gráfico\n",
    "plt.figure(figsize=(20, 20))\n",
    "plt.subplot(4, 2, 1)\n",
    "sns.barplot(x=\"Job Title\", y=\"Valor Máximo\", data=df, color= cor_valor_maximo, errwidth=False, order= funcoes_order)\n",
    "plt.xticks(rotation=45)\n",
    "\n",
    "# Criando gráfico\n",
    "plt.subplot(4, 2, 2)\n",
    "sns.barplot(x=\"Job Title\", y=\"Valor Mínimo\", data=df, color= cor_valor_minimo, errwidth=False, order= funcoes_order)\n",
    "plt.xticks(rotation=45)"
   ]
  },
  {
   "cell_type": "markdown",
   "metadata": {
    "id": "yq8NOHJ5btqS"
   },
   "source": [
    "**Observações:**\n",
    "\n",
    "Como podemos perceber no gráfico acima, os cargos de **Data Scientist** e **Data Engineer** são os com maiores salários. Curiosamente os cargos de **Business Intelligence** e **Intern** são oferecidos a mesma margem salárial sendo o **Data Analyst** o cargo que, segundo os dados, tem o menor salário."
   ]
  },
  {
   "cell_type": "markdown",
   "metadata": {
    "id": "H2t91rH0yEyW"
   },
   "source": [
    "O gráfico de boxplot nos ajuda a identificar a variação entre os valores do mesmo cargo e comparar com os demais cargos. "
   ]
  },
  {
   "cell_type": "code",
   "execution_count": 40,
   "metadata": {
    "colab": {
     "base_uri": "https://localhost:8080/",
     "height": 71
    },
    "id": "9S_tZ3qvlDk1",
    "outputId": "efaf400c-3673-42b0-a506-a25b41455aca"
   },
   "outputs": [
    {
     "data": {
      "text/plain": [
       "(array([0, 1, 2, 3, 4]),\n",
       " [Text(0, 0, 'Data Scientist'),\n",
       "  Text(1, 0, 'Data Analyst'),\n",
       "  Text(2, 0, 'Data Engineer'),\n",
       "  Text(3, 0, 'Business Intelligence'),\n",
       "  Text(4, 0, 'Intern')])"
      ]
     },
     "execution_count": 40,
     "metadata": {},
     "output_type": "execute_result"
    },
    {
     "data": {
      "image/png": "[encoded data removed]",
      "text/plain": [
       "<Figure size 1440x2160 with 2 Axes>"
      ]
     },
     "metadata": {},
     "output_type": "display_data"
    }
   ],
   "source": [
    "# Criando gráfico\n",
    "plt.figure(figsize=(20, 30))\n",
    "plt.subplot(4, 2, 1)\n",
    "sns.set_theme(style=\"whitegrid\")\n",
    "sns.boxplot(x=\"Job Title\", y = \"Valor Máximo\", data = df, color= cor_valor_maximo)\n",
    "plt.title(\"Boxplot do Salário Máximo pela Função\")\n",
    "plt.xticks(rotation=45)\n",
    "\n",
    "# Criando gráfico\n",
    "plt.subplot(4, 2, 2)\n",
    "sns.set_theme(style=\"whitegrid\")\n",
    "sns.boxplot(x=\"Job Title\", y = \"Valor Mínimo\", data = df, color= cor_valor_minimo)\n",
    "plt.title(\"Boxplot do Salário Mínimo pela Função\")\n",
    "plt.xticks(rotation=45)"
   ]
  },
  {
   "cell_type": "markdown",
   "metadata": {
    "id": "RtccXB3GhnTG"
   },
   "source": [
    "**Observações:**\n",
    "\n",
    "Observamos no gráfico anterior que os salários de **Data Scientist** e **Data Engineer** são bem próximos mas, nessa visualização podemos verificar outras métricas que conseguimos diferencia-lós. Como por exemplo, o tamanho da caixa de distribuição dos salários e bem maior no **Data Scientist** do que **Data Engineer**. Isso pode ser devido a maior quantidade de vagas para esse cargo ou que outras variáveis podem influenciar mais os salários de **Data Scientist** do que os de **Data Engineer**."
   ]
  },
  {
   "cell_type": "markdown",
   "metadata": {
    "id": "0fZjpSoLyU0z"
   },
   "source": [
    "Vamos vizualizar os salários por outra variável.\n",
    "<br/>\n",
    "\n",
    "Nesse momento quero identificar os valores salariais pela localidade."
   ]
  },
  {
   "cell_type": "code",
   "execution_count": 41,
   "metadata": {
    "colab": {
     "base_uri": "https://localhost:8080/",
     "height": 88
    },
    "id": "SqZ_PrMM0S6s",
    "outputId": "348a6b1b-cf67-454d-d6c3-30c2c10fb60f"
   },
   "outputs": [
    {
     "data": {
      "text/plain": [
       "(array([ 0,  1,  2,  3,  4,  5,  6,  7,  8,  9, 10, 11, 12, 13]),\n",
       " [Text(0, 0, 'USA'),\n",
       "  Text(1, 0, ' Japan'),\n",
       "  Text(2, 0, ' Switzerland'),\n",
       "  Text(3, 0, ' Germany'),\n",
       "  Text(4, 0, ' United Kingdom'),\n",
       "  Text(5, 0, ' Belgium'),\n",
       "  Text(6, 0, ' China'),\n",
       "  Text(7, 0, ' Bermuda'),\n",
       "  Text(8, 0, ' South Korea'),\n",
       "  Text(9, 0, ' India'),\n",
       "  Text(10, 0, ' Singapore'),\n",
       "  Text(11, 0, 'Unknown'),\n",
       "  Text(12, 0, ' Spain'),\n",
       "  Text(13, 0, ' France')])"
      ]
     },
     "execution_count": 41,
     "metadata": {},
     "output_type": "execute_result"
    },
    {
     "data": {
      "image/png": "[encoded data removed]",
      "text/plain": [
       "<Figure size 1440x1440 with 2 Axes>"
      ]
     },
     "metadata": {},
     "output_type": "display_data"
    }
   ],
   "source": [
    "# Criando gráfico\n",
    "plt.figure(figsize=(20, 20))\n",
    "plt.subplot(4, 2, 1)\n",
    "ax = sns.barplot(x=\"Pais_HQ\",\n",
    "            y=\"Valor Máximo\", \n",
    "            data=df, \n",
    "            color= cor_valor_maximo,\n",
    "            errwidth=False)\n",
    "plt.xticks(rotation=90)\n",
    "\n",
    "# Criando gráfico\n",
    "plt.subplot(4, 2, 2)\n",
    "sns.barplot(x=\"Pais_HQ\", \n",
    "            y=\"Valor Mínimo\", \n",
    "            data=df,\n",
    "            color= cor_valor_minimo,\n",
    "            errwidth=False)\n",
    "plt.xticks(rotation=90)"
   ]
  },
  {
   "cell_type": "markdown",
   "metadata": {
    "id": "n9GE5Ru5hrwk"
   },
   "source": [
    "**Observações:**\n",
    "\n",
    "Podemos perceber no gráfico de barras acima que os salários de Bermuda é o que tem a faixa mais alta entre os países, em segundo lugar o Japão. Já a India e a Espanha oferecem os menores salários.\n"
   ]
  },
  {
   "cell_type": "markdown",
   "metadata": {
    "id": "EUR03hSv4cV3"
   },
   "source": [
    "Nesse momento quero identificar os valores salariais pelo tamanho da empresa levando em consideração a quantidade de employees. Se realmente quanto mais funcionários a empresa tem, maior é o salário dos colaboradores. "
   ]
  },
  {
   "cell_type": "code",
   "execution_count": 42,
   "metadata": {
    "colab": {
     "base_uri": "https://localhost:8080/",
     "height": 71
    },
    "id": "k3QM3l5rkbCL",
    "outputId": "afec1086-7c3e-4792-a480-a40a729881c6"
   },
   "outputs": [
    {
     "data": {
      "text/plain": [
       "(array([0, 1, 2, 3, 4, 5, 6, 7]),\n",
       " [Text(0, 0, '1 to 50 employees'),\n",
       "  Text(1, 0, '51 to 200 employees'),\n",
       "  Text(2, 0, '201 to 500 employees'),\n",
       "  Text(3, 0, '501 to 1000 employees'),\n",
       "  Text(4, 0, '1001 to 5000 employees'),\n",
       "  Text(5, 0, '5001 to 10000 employees'),\n",
       "  Text(6, 0, '10000+ employees'),\n",
       "  Text(7, 0, 'Unknown')])"
      ]
     },
     "execution_count": 42,
     "metadata": {},
     "output_type": "execute_result"
    },
    {
     "data": {
      "image/png": "[encoded data removed]",
      "text/plain": [
       "<Figure size 1440x1440 with 2 Axes>"
      ]
     },
     "metadata": {},
     "output_type": "display_data"
    }
   ],
   "source": [
    "tamanho_order = ['1 to 50 employees',\n",
    "    '51 to 200 employees',\n",
    "    '201 to 500 employees',\n",
    "    '501 to 1000 employees',\n",
    "    '1001 to 5000 employees',\n",
    "    '5001 to 10000 employees',\n",
    "    '10000+ employees',\n",
    "    'Unknown'\n",
    "]\n",
    "# Criando gráfico\n",
    "plt.figure(figsize=(20, 20))\n",
    "plt.subplot(4, 2, 1)\n",
    "sns.barplot(x=\"Size\", y=\"Valor Máximo\", data=df, color= cor_valor_maximo, errwidth=False, order= tamanho_order)\n",
    "plt.xticks(rotation=45)\n",
    "\n",
    "# Criando gráfico\n",
    "plt.subplot(4, 2, 2)\n",
    "sns.barplot(x=\"Size\", y=\"Valor Mínimo\", data=df, color= cor_valor_minimo, errwidth=False, order= tamanho_order)\n",
    "plt.xticks(rotation=45)"
   ]
  },
  {
   "cell_type": "markdown",
   "metadata": {
    "id": "pVYT0iYu45YC"
   },
   "source": [
    "**Observações:**\n",
    "\n",
    "Realmente as empresas com **10000 + employees** pagam os maiores salários mas, não existe uma diferença significativa que nos leva a afirmar que o número de funcionários influência o salário recebido. "
   ]
  },
  {
   "cell_type": "markdown",
   "metadata": {
    "id": "4ShoX7wz48_C"
   },
   "source": [
    "Verificando pela ótica do faturamento, será que quanto maior o faturamento da empresa maior os salários ofertados."
   ]
  },
  {
   "cell_type": "code",
   "execution_count": 43,
   "metadata": {
    "colab": {
     "base_uri": "https://localhost:8080/",
     "height": 88
    },
    "id": "RglUSz7tnwd2",
    "outputId": "c7c9cd3f-48a4-42c9-ef53-544ff013e50b"
   },
   "outputs": [
    {
     "data": {
      "text/plain": [
       "(array([ 0,  1,  2,  3,  4,  5,  6,  7,  8,  9, 10, 11, 12]),\n",
       " [Text(0, 0, 'Less than $1 million (USD)'),\n",
       "  Text(1, 0, '$1 to $5 million (USD)'),\n",
       "  Text(2, 0, '$5 to $10 million (USD)'),\n",
       "  Text(3, 0, '$10 to $25 million (USD)'),\n",
       "  Text(4, 0, '$25 to $50 million (USD)'),\n",
       "  Text(5, 0, '$50 to $100 million (USD)'),\n",
       "  Text(6, 0, '$100 to $500 million (USD)'),\n",
       "  Text(7, 0, '$500 million to $1 billion (USD)'),\n",
       "  Text(8, 0, '$1 to $2 billion (USD)'),\n",
       "  Text(9, 0, '$2 to $5 billion (USD)'),\n",
       "  Text(10, 0, '$5 to $10 billion (USD)'),\n",
       "  Text(11, 0, '$10+ billion (USD)'),\n",
       "  Text(12, 0, 'Unknown / Non-Applicable')])"
      ]
     },
     "execution_count": 43,
     "metadata": {},
     "output_type": "execute_result"
    },
    {
     "data": {
      "image/png": "[encoded data removed]",
      "text/plain": [
       "<Figure size 1440x1440 with 2 Axes>"
      ]
     },
     "metadata": {},
     "output_type": "display_data"
    }
   ],
   "source": [
    "faturamento_order = ['Less than $1 million (USD)',\n",
    "    '$1 to $5 million (USD)',\n",
    "    '$5 to $10 million (USD)',\n",
    "    '$10 to $25 million (USD)',\n",
    "    '$25 to $50 million (USD)',\n",
    "    '$50 to $100 million (USD)',\n",
    "    '$100 to $500 million (USD)',\n",
    "    '$500 million to $1 billion (USD)',\n",
    "    '$1 to $2 billion (USD)',\n",
    "    '$2 to $5 billion (USD)',\n",
    "    '$5 to $10 billion (USD)',\n",
    "    '$10+ billion (USD)',\n",
    "    'Unknown / Non-Applicable'\n",
    "]\n",
    "\n",
    "# Criando gráfico\n",
    "plt.figure(figsize=(20, 20))\n",
    "plt.subplot(4, 2, 1)\n",
    "sns.barplot(x=\"Revenue\", y=\"Valor Máximo\", data=df, color= cor_valor_maximo, errwidth=False, order= faturamento_order)\n",
    "plt.xticks(rotation=90)\n",
    "\n",
    "# Criando gráfico\n",
    "plt.subplot(4, 2, 2)\n",
    "sns.barplot(x=\"Revenue\", y=\"Valor Mínimo\", data=df, color= cor_valor_minimo, errwidth=False, order= faturamento_order)\n",
    "plt.xticks(rotation=90)"
   ]
  },
  {
   "cell_type": "markdown",
   "metadata": {
    "id": "4-uXYHLi5yN5"
   },
   "source": [
    "**Observações:**\n",
    "\n",
    "Quando analisamos os salários em relação ao faturamento da empresa conseguimos verificar uma maior variação mas não uma regra que determine o salário de acordo com essa variável. Fica bem evidente quando verificamos que as empresas com faturamento de **5 to 10 million** pagam praticamento os mesmos salários do que empresas que faturam **10 + billion**. \n",
    "\n",
    "Novamente, não podemos afirmar que essa variável influencie diretamente os valores de salário. "
   ]
  },
  {
   "cell_type": "markdown",
   "metadata": {
    "id": "zDa5UXOXyp0_"
   },
   "source": [
    "Será que existe uma correlação entre as variáveis numéricas ? "
   ]
  },
  {
   "cell_type": "code",
   "execution_count": 44,
   "metadata": {
    "colab": {
     "base_uri": "https://localhost:8080/",
     "height": 71
    },
    "id": "lmCbUOZckIn-",
    "outputId": "ef1b4243-92f4-4801-b6ec-0cc43752e052"
   },
   "outputs": [
    {
     "data": {
      "text/plain": [
       "<seaborn.axisgrid.PairGrid at 0x1b0efa10d00>"
      ]
     },
     "execution_count": 44,
     "metadata": {},
     "output_type": "execute_result"
    },
    {
     "data": {
      "image/png": "[encoded data removed]",
      "text/plain": [
       "<Figure size 862.85x720 with 20 Axes>"
      ]
     },
     "metadata": {},
     "output_type": "display_data"
    }
   ],
   "source": [
    "# Criando gráfico\n",
    "sns.pairplot(df, hue='Job Title', diag_kind=\"hist\")"
   ]
  },
  {
   "cell_type": "markdown",
   "metadata": {
    "id": "GiIhvexBhzoR"
   },
   "source": [
    "**Observações:**\n",
    "\n",
    "Só conseguimos identificar uma evidente correlação positiva entre as colunas de **Valor Máximo** e **Valor Mínimo**."
   ]
  },
  {
   "cell_type": "markdown",
   "metadata": {
    "id": "UCyeweQMy8Yh"
   },
   "source": [
    "Identificamos que existe uma correlação positiva entre as colunas de salários mínimos e máximos.\n",
    "Contudo, númericamente quanto uma variável explica a outra? Para isso vamos criar uma matriz de correlação."
   ]
  },
  {
   "cell_type": "code",
   "execution_count": 45,
   "metadata": {
    "colab": {
     "base_uri": "https://localhost:8080/",
     "height": 71
    },
    "id": "xXXQa9aJ9Qwz",
    "outputId": "34f6352f-d0a6-49b8-ce86-ccc04e0c704b"
   },
   "outputs": [
    {
     "data": {
      "text/plain": [
       "Text(0.5, 1.0, 'Correlação das Variáveis')"
      ]
     },
     "execution_count": 45,
     "metadata": {},
     "output_type": "execute_result"
    },
    {
     "data": {
      "image/png": "[encoded data removed]",
      "text/plain": [
       "<Figure size 792x648 with 2 Axes>"
      ]
     },
     "metadata": {},
     "output_type": "display_data"
    }
   ],
   "source": [
    "# Matriz\n",
    "correlacao = df.corr()\n",
    "\n",
    "# Generate a mask for the upper triangle\n",
    "mask = np.triu(np.ones_like(correlacao, dtype=bool))\n",
    "\n",
    "# Set up the matplotlib figure\n",
    "f, ax = plt.subplots(figsize=(11, 9))\n",
    "\n",
    "# Draw the heatmap with the mask and correct aspect ratio\n",
    "sns.heatmap(correlacao, mask=mask, cmap='coolwarm', annot=True, center=0, linewidths=.5)\n",
    "plt.title(\"Correlação das Variáveis\")"
   ]
  },
  {
   "cell_type": "markdown",
   "metadata": {
    "id": "WusNc3d1h1b-"
   },
   "source": [
    "**Observações:**\n",
    "\n",
    "Com um valor de correlação de 0,94 conseguimos confirmar a correlação positiva entre Valor Máximo e Valor Mínimo. Isso mostra que quase todos os Valores que analisarmos de uma variável conseguimos explicar a outra."
   ]
  },
  {
   "cell_type": "markdown",
   "metadata": {},
   "source": [
    "\n",
    "\n",
    "---\n",
    "\n",
    "\n",
    "\n",
    "---\n",
    "\n"
   ]
  },
  {
   "cell_type": "markdown",
   "metadata": {
    "id": "_eTmiePO9hSR"
   },
   "source": [
    "## 06. Modelagem:"
   ]
  },
  {
   "cell_type": "markdown",
   "metadata": {
    "id": "h06Vf4ba1Wy4"
   },
   "source": [
    "**Modelagem:** Agora que nossos dados estão prontos, vamos verificar o desempenho em dois algoritmos de regressão. Primeiro, vamos separar em dados de treino e teste. Segundo, criamos o modelo e análisamos e rodamos. Por último, os modelos precisam ser avaliados com base em um determinado conjunto de métricas de avaliação que precisam ser definidas. Para algoritmos de regressão, algumas das métricas comuns são - MSE e R Square.\n",
    "<br/>\n",
    "\n",
    "Os dados em mãos podem ser divididos de antemão como conjunto de treinamento e conjunto de validação. Esta divisão possui várias técnicas mas nesse projeto vamos usar a técnica de Train Test Split. \n",
    "<br/>\n",
    "\n",
    "Os modelos precisam ser avaliados com base em um determinado conjunto de métricas de avaliação que precisam ser definidas. Para algoritmos de regressão, algumas das métricas comuns são - MSE e R Square."
   ]
  },
  {
   "cell_type": "markdown",
   "metadata": {
    "id": "MOUVbkSwHIVy"
   },
   "source": [
    "Primeiro vamos identificar as colunas que usaremos e dividir entre categoricas e numericas.\n",
    "<br/>\n",
    "\n",
    "**categoricas:** \n",
    "\n",
    "- Job Title\n",
    "- Size\n",
    "- Revenue\n",
    "- Pais\n",
    "<br/>\n",
    "\n",
    "**numerica:** \n",
    "\n",
    "- Rating\n",
    "- Founded\n",
    "- Valor Mínimo\n",
    "- Valor Máximo"
   ]
  },
  {
   "cell_type": "code",
   "execution_count": 46,
   "metadata": {
    "id": "vzGRmRZIIBTR"
   },
   "outputs": [],
   "source": [
    "# Tratando colunas categóricas\n",
    "cat_cols = ['Job Title', 'Size', 'Revenue', 'Pais_HQ']\n",
    "treino_cat = df[cat_cols]"
   ]
  },
  {
   "cell_type": "code",
   "execution_count": 47,
   "metadata": {
    "id": "BhD-RaVAIBEP"
   },
   "outputs": [],
   "source": [
    "# Usando one hot encoding\n",
    "treino_cat = pd.get_dummies(treino_cat)"
   ]
  },
  {
   "cell_type": "code",
   "execution_count": 48,
   "metadata": {
    "id": "2LdORVAnIA1Y"
   },
   "outputs": [],
   "source": [
    "# Tratando colunas numericas\n",
    "num_cols = ['Rating', 'Founded', 'Valor Mínimo', 'Valor Máximo']\n",
    "treino_num = df[num_cols]"
   ]
  },
  {
   "cell_type": "markdown",
   "metadata": {
    "id": "9g5pN4jPGPe-"
   },
   "source": [
    "Agora que identificamos as colunas que usaremos no nosso modelo, vamos concatenar e criar um dataframe."
   ]
  },
  {
   "cell_type": "code",
   "execution_count": 49,
   "metadata": {
    "id": "VzBidS43IAsH"
   },
   "outputs": [],
   "source": [
    "# Criando o dataframe que iremos usar no modelo\n",
    "treino = pd.concat([treino_cat, treino_num], axis=1)"
   ]
  },
  {
   "cell_type": "code",
   "execution_count": 50,
   "metadata": {
    "colab": {
     "base_uri": "https://localhost:8080/",
     "height": 275
    },
    "id": "sXA4Tk2lO8fR",
    "outputId": "52b6c1ee-ae6e-4c53-c32f-fdc9e706c4c4"
   },
   "outputs": [
    {
     "data": {
      "text/html": [
       "<div>\n",
       "<style scoped>\n",
       "    .dataframe tbody tr th:only-of-type {\n",
       "        vertical-align: middle;\n",
       "    }\n",
       "\n",
       "    .dataframe tbody tr th {\n",
       "        vertical-align: top;\n",
       "    }\n",
       "\n",
       "    .dataframe thead th {\n",
       "        text-align: right;\n",
       "    }\n",
       "</style>\n",
       "<table border=\"1\" class=\"dataframe\">\n",
       "  <thead>\n",
       "    <tr style=\"text-align: right;\">\n",
       "      <th></th>\n",
       "      <th>Job Title_Business Intelligence</th>\n",
       "      <th>Job Title_Data Analyst</th>\n",
       "      <th>Job Title_Data Engineer</th>\n",
       "      <th>Job Title_Data Scientist</th>\n",
       "      <th>Job Title_Intern</th>\n",
       "      <th>Size_1 to 50 employees</th>\n",
       "      <th>Size_10000+ employees</th>\n",
       "      <th>Size_1001 to 5000 employees</th>\n",
       "      <th>Size_201 to 500 employees</th>\n",
       "      <th>Size_5001 to 10000 employees</th>\n",
       "      <th>...</th>\n",
       "      <th>Pais_HQ_ South Korea</th>\n",
       "      <th>Pais_HQ_ Spain</th>\n",
       "      <th>Pais_HQ_ Switzerland</th>\n",
       "      <th>Pais_HQ_ United Kingdom</th>\n",
       "      <th>Pais_HQ_USA</th>\n",
       "      <th>Pais_HQ_Unknown</th>\n",
       "      <th>Rating</th>\n",
       "      <th>Founded</th>\n",
       "      <th>Valor Mínimo</th>\n",
       "      <th>Valor Máximo</th>\n",
       "    </tr>\n",
       "  </thead>\n",
       "  <tbody>\n",
       "    <tr>\n",
       "      <th>0</th>\n",
       "      <td>0</td>\n",
       "      <td>0</td>\n",
       "      <td>0</td>\n",
       "      <td>1</td>\n",
       "      <td>0</td>\n",
       "      <td>0</td>\n",
       "      <td>0</td>\n",
       "      <td>0</td>\n",
       "      <td>0</td>\n",
       "      <td>0</td>\n",
       "      <td>...</td>\n",
       "      <td>0</td>\n",
       "      <td>0</td>\n",
       "      <td>0</td>\n",
       "      <td>0</td>\n",
       "      <td>1</td>\n",
       "      <td>0</td>\n",
       "      <td>3.8</td>\n",
       "      <td>1973</td>\n",
       "      <td>53000.0</td>\n",
       "      <td>91000.0</td>\n",
       "    </tr>\n",
       "    <tr>\n",
       "      <th>1</th>\n",
       "      <td>0</td>\n",
       "      <td>0</td>\n",
       "      <td>0</td>\n",
       "      <td>1</td>\n",
       "      <td>0</td>\n",
       "      <td>0</td>\n",
       "      <td>1</td>\n",
       "      <td>0</td>\n",
       "      <td>0</td>\n",
       "      <td>0</td>\n",
       "      <td>...</td>\n",
       "      <td>0</td>\n",
       "      <td>0</td>\n",
       "      <td>0</td>\n",
       "      <td>0</td>\n",
       "      <td>1</td>\n",
       "      <td>0</td>\n",
       "      <td>3.4</td>\n",
       "      <td>1984</td>\n",
       "      <td>63000.0</td>\n",
       "      <td>112000.0</td>\n",
       "    </tr>\n",
       "    <tr>\n",
       "      <th>2</th>\n",
       "      <td>0</td>\n",
       "      <td>0</td>\n",
       "      <td>0</td>\n",
       "      <td>1</td>\n",
       "      <td>0</td>\n",
       "      <td>0</td>\n",
       "      <td>0</td>\n",
       "      <td>0</td>\n",
       "      <td>0</td>\n",
       "      <td>0</td>\n",
       "      <td>...</td>\n",
       "      <td>0</td>\n",
       "      <td>0</td>\n",
       "      <td>0</td>\n",
       "      <td>0</td>\n",
       "      <td>1</td>\n",
       "      <td>0</td>\n",
       "      <td>4.8</td>\n",
       "      <td>2010</td>\n",
       "      <td>80000.0</td>\n",
       "      <td>90000.0</td>\n",
       "    </tr>\n",
       "    <tr>\n",
       "      <th>3</th>\n",
       "      <td>0</td>\n",
       "      <td>0</td>\n",
       "      <td>0</td>\n",
       "      <td>1</td>\n",
       "      <td>0</td>\n",
       "      <td>0</td>\n",
       "      <td>0</td>\n",
       "      <td>1</td>\n",
       "      <td>0</td>\n",
       "      <td>0</td>\n",
       "      <td>...</td>\n",
       "      <td>0</td>\n",
       "      <td>0</td>\n",
       "      <td>0</td>\n",
       "      <td>0</td>\n",
       "      <td>1</td>\n",
       "      <td>0</td>\n",
       "      <td>3.8</td>\n",
       "      <td>1965</td>\n",
       "      <td>56000.0</td>\n",
       "      <td>97000.0</td>\n",
       "    </tr>\n",
       "    <tr>\n",
       "      <th>4</th>\n",
       "      <td>0</td>\n",
       "      <td>0</td>\n",
       "      <td>0</td>\n",
       "      <td>1</td>\n",
       "      <td>0</td>\n",
       "      <td>0</td>\n",
       "      <td>0</td>\n",
       "      <td>0</td>\n",
       "      <td>0</td>\n",
       "      <td>0</td>\n",
       "      <td>...</td>\n",
       "      <td>0</td>\n",
       "      <td>0</td>\n",
       "      <td>0</td>\n",
       "      <td>0</td>\n",
       "      <td>1</td>\n",
       "      <td>0</td>\n",
       "      <td>2.9</td>\n",
       "      <td>1998</td>\n",
       "      <td>86000.0</td>\n",
       "      <td>143000.0</td>\n",
       "    </tr>\n",
       "  </tbody>\n",
       "</table>\n",
       "<p>5 rows × 44 columns</p>\n",
       "</div>"
      ],
      "text/plain": [
       "   Job Title_Business Intelligence  Job Title_Data Analyst  \\\n",
       "0                                0                       0   \n",
       "1                                0                       0   \n",
       "2                                0                       0   \n",
       "3                                0                       0   \n",
       "4                                0                       0   \n",
       "\n",
       "   Job Title_Data Engineer  Job Title_Data Scientist  Job Title_Intern  \\\n",
       "0                        0                         1                 0   \n",
       "1                        0                         1                 0   \n",
       "2                        0                         1                 0   \n",
       "3                        0                         1                 0   \n",
       "4                        0                         1                 0   \n",
       "\n",
       "   Size_1 to 50 employees  Size_10000+ employees  Size_1001 to 5000 employees  \\\n",
       "0                       0                      0                            0   \n",
       "1                       0                      1                            0   \n",
       "2                       0                      0                            0   \n",
       "3                       0                      0                            1   \n",
       "4                       0                      0                            0   \n",
       "\n",
       "   Size_201 to 500 employees  Size_5001 to 10000 employees  ...  \\\n",
       "0                          0                             0  ...   \n",
       "1                          0                             0  ...   \n",
       "2                          0                             0  ...   \n",
       "3                          0                             0  ...   \n",
       "4                          0                             0  ...   \n",
       "\n",
       "   Pais_HQ_ South Korea  Pais_HQ_ Spain  Pais_HQ_ Switzerland  \\\n",
       "0                     0               0                     0   \n",
       "1                     0               0                     0   \n",
       "2                     0               0                     0   \n",
       "3                     0               0                     0   \n",
       "4                     0               0                     0   \n",
       "\n",
       "   Pais_HQ_ United Kingdom  Pais_HQ_USA  Pais_HQ_Unknown  Rating  Founded  \\\n",
       "0                        0            1                0     3.8     1973   \n",
       "1                        0            1                0     3.4     1984   \n",
       "2                        0            1                0     4.8     2010   \n",
       "3                        0            1                0     3.8     1965   \n",
       "4                        0            1                0     2.9     1998   \n",
       "\n",
       "   Valor Mínimo  Valor Máximo  \n",
       "0       53000.0       91000.0  \n",
       "1       63000.0      112000.0  \n",
       "2       80000.0       90000.0  \n",
       "3       56000.0       97000.0  \n",
       "4       86000.0      143000.0  \n",
       "\n",
       "[5 rows x 44 columns]"
      ]
     },
     "execution_count": 50,
     "metadata": {},
     "output_type": "execute_result"
    }
   ],
   "source": [
    "# Visualisando as primeiras 5 linhas do dataset\n",
    "treino.head()"
   ]
  },
  {
   "cell_type": "code",
   "execution_count": 51,
   "metadata": {
    "colab": {
     "base_uri": "https://localhost:8080/"
    },
    "id": "HMyoDhLvIAd-",
    "outputId": "70677993-3695-4fd1-ec02-67a81b73dc44"
   },
   "outputs": [
    {
     "name": "stdout",
     "output_type": "stream",
     "text": [
      "Este Dataset possui 932 linhas e 44 colunas\n"
     ]
    }
   ],
   "source": [
    "# Visualizando o número de linhas e colunas\n",
    "nlinhas, nColunas = treino.shape\n",
    "print(f'Este Dataset possui {nlinhas} linhas e {nColunas} colunas')"
   ]
  },
  {
   "cell_type": "markdown",
   "metadata": {
    "id": "tA2mT3H0G_ez"
   },
   "source": [
    "Chegou o momento de dividir os dados de treino e teste."
   ]
  },
  {
   "cell_type": "code",
   "execution_count": 52,
   "metadata": {
    "id": "eGDeEUwhZmJE"
   },
   "outputs": [],
   "source": [
    "# Dividindo os dados de treino e teste (X e y) Variável alvo = Valor Máximo.\n",
    "\n",
    "X = treino.drop('Valor Máximo', axis=1)\n",
    "y = treino['Valor Máximo']\n",
    "\n",
    "from sklearn.model_selection import train_test_split\n",
    "\n",
    "# Vamos estratificar nossas amostras para que nosso teste tenha a mesma proporção de classes que nosso treino\n",
    "X_train, X_test, y_train, y_test = train_test_split(X,y, test_size=0.25, random_state=42)"
   ]
  },
  {
   "cell_type": "markdown",
   "metadata": {
    "id": "wG5FxCYBHgnh"
   },
   "source": [
    "Após a divisão, vamos criar o nosso modelo. \n",
    "\n",
    "Vamos treinar 2 diferentes modelos de regressão e identificar qual tem a melhor precisão preditiva.\n",
    "\n",
    "- **ExtraTreesRegressor**: Esta classe implementa um metaestimador que ajusta uma série de árvores de decisão aleatórias (também conhecidas como árvores extras) em várias subamostras do conjunto de dados e usa a média para melhorar a precisão preditiva e o over-fitting.\n",
    "<br/>\n",
    "\n",
    "- **LinearRegression**: LinearRegression ajusta um modelo linear com coeficientes w = (w1, ..., wp) para minimizar a soma residual dos quadrados entre os alvos observados no conjunto de dados e os alvos previstos pela aproximação linear."
   ]
  },
  {
   "cell_type": "code",
   "execution_count": 53,
   "metadata": {
    "id": "wQIg67jZLzgQ"
   },
   "outputs": [],
   "source": [
    "# Importar o modelo\n",
    "from sklearn.ensemble import ExtraTreesRegressor\n",
    "from sklearn.metrics import mean_squared_error\n",
    "\n",
    "# Cria o modelo e treina o modelo\n",
    "reg = ExtraTreesRegressor(n_estimators=100, random_state=0).fit(X_train, y_train) \n",
    "\n",
    "# Olhando outra métrica\n",
    "reg_y_pred = reg.predict(X_test)"
   ]
  },
  {
   "cell_type": "code",
   "execution_count": 54,
   "metadata": {
    "id": "GFQGqxM_Nigk"
   },
   "outputs": [],
   "source": [
    "r2_train = reg.score(X_train, y_train)\n",
    "r2_test = reg.score(X_test, y_test)\n",
    "mse = mean_squared_error(reg_y_pred, y_test)"
   ]
  },
  {
   "cell_type": "code",
   "execution_count": 55,
   "metadata": {
    "colab": {
     "base_uri": "https://localhost:8080/"
    },
    "id": "vrasfk0RNnhC",
    "outputId": "73bea9ad-61f0-414d-f715-2698f880a388"
   },
   "outputs": [
    {
     "name": "stdout",
     "output_type": "stream",
     "text": [
      "R2 no set de treino: 1.00\n",
      "R2 no set de teste: 0.91\n",
      "mse: 124913108.44062953\n"
     ]
    }
   ],
   "source": [
    "print('R2 no set de treino: %.2f' % r2_train)\n",
    "print('R2 no set de teste: %.2f' % r2_test)\n",
    "print('mse:', mse)"
   ]
  },
  {
   "cell_type": "code",
   "execution_count": 56,
   "metadata": {
    "id": "CSZmzfhMMlbG"
   },
   "outputs": [],
   "source": [
    "# Importar o modelo\n",
    "from sklearn.linear_model import LinearRegression\n",
    "from sklearn.metrics import mean_squared_error\n",
    "\n",
    "# Cria o modelo\n",
    "regr = LinearRegression() \n",
    "\n",
    "# Treina o modelo\n",
    "regr.fit(X_train, y_train) \n",
    "\n",
    "# Olhando outra métrica\n",
    "regr_y_pred = regr.predict(X_test)"
   ]
  },
  {
   "cell_type": "code",
   "execution_count": 57,
   "metadata": {
    "id": "fdO5OOUxMlX5"
   },
   "outputs": [],
   "source": [
    "r2_train = regr.score(X_train, y_train)\n",
    "r2_test = regr.score(X_test, y_test)\n",
    "mse = mean_squared_error(regr_y_pred, y_test)"
   ]
  },
  {
   "cell_type": "code",
   "execution_count": 58,
   "metadata": {
    "colab": {
     "base_uri": "https://localhost:8080/"
    },
    "id": "msXgyJBjMlIl",
    "outputId": "3eb6f559-495e-4f9a-9948-f0eed1eccd16"
   },
   "outputs": [
    {
     "name": "stdout",
     "output_type": "stream",
     "text": [
      "R2 no set de treino: 0.91\n",
      "R2 no set de teste: 0.87\n",
      "mse: 174793611.4340817\n"
     ]
    }
   ],
   "source": [
    "print('R2 no set de treino: %.2f' % r2_train)\n",
    "print('R2 no set de teste: %.2f' % r2_test)\n",
    "print('mse:', mse)"
   ]
  },
  {
   "cell_type": "markdown",
   "metadata": {
    "id": "vuAc66WoOS1o"
   },
   "source": [
    "Como a classe **ExtraTreesRegressor** performou melhor que a **LinearRegression**. Vamos utilizar ela para prever o **Valor Mínimo**\n",
    "<br/>\n",
    "\n",
    "**ExtraTreesRegressor**\n",
    "<br/>\n",
    "\n",
    "R2 no set de treino: 1.00\n",
    "<br/>\n",
    "R2 no set de teste: 0.91\n",
    "<br/>\n",
    "mse: 124913108.44062953\n",
    "\n",
    "**LinearRegression**\n",
    "<br/>\n",
    "\n",
    "R2 no set de treino: 0.91\n",
    "<br/>\n",
    "R2 no set de teste: 0.87\n",
    "<br/>\n",
    "mse: 174793611.4341191"
   ]
  },
  {
   "cell_type": "code",
   "execution_count": 59,
   "metadata": {
    "id": "298EW14CMlGH"
   },
   "outputs": [],
   "source": [
    "# Dividindo os dados de treino e teste (X e y) Variável alvo = Valor Máximo.\n",
    "\n",
    "X = treino.drop('Valor Mínimo', axis=1)\n",
    "y = treino['Valor Mínimo']\n",
    "\n",
    "from sklearn.model_selection import train_test_split\n",
    "\n",
    "# Vamos estratificar nossas amostras para que nosso teste tenha a mesma proporção de classes que nosso treino\n",
    "X_train, X_test, y_train, y_test = train_test_split(X,y, test_size=0.25, random_state=42)"
   ]
  },
  {
   "cell_type": "code",
   "execution_count": 60,
   "metadata": {
    "id": "3EqyErzBMkz5"
   },
   "outputs": [],
   "source": [
    "# Importa o modelo\n",
    "from sklearn.ensemble import ExtraTreesRegressor\n",
    "from sklearn.metrics import mean_squared_error\n",
    "\n",
    "# Criar e treinar o modelo\n",
    "reg = ExtraTreesRegressor(n_estimators=100, random_state=0).fit(X_train, y_train) \n",
    "\n",
    "# Olhando outra métrica\n",
    "reg_y_pred = reg.predict(X_test)"
   ]
  },
  {
   "cell_type": "code",
   "execution_count": 61,
   "metadata": {
    "id": "RWGmUmODMkaV"
   },
   "outputs": [],
   "source": [
    "r2_train = reg.score(X_train, y_train)\n",
    "r2_test = reg.score(X_test, y_test)\n",
    "mse = mean_squared_error(reg_y_pred, y_test)"
   ]
  },
  {
   "cell_type": "code",
   "execution_count": 62,
   "metadata": {
    "colab": {
     "base_uri": "https://localhost:8080/"
    },
    "id": "AGHpsyUZPT1b",
    "outputId": "7a9c2822-f662-4e84-d92d-01dd0b8d7484"
   },
   "outputs": [
    {
     "name": "stdout",
     "output_type": "stream",
     "text": [
      "R2 no set de treino: 1.00\n",
      "R2 no set de teste: 0.92\n",
      "mse: 49245083.88173581\n"
     ]
    }
   ],
   "source": [
    "print('R2 no set de treino: %.2f' % r2_train)\n",
    "print('R2 no set de teste: %.2f' % r2_test)\n",
    "print('mse:', mse)"
   ]
  },
  {
   "cell_type": "markdown",
   "metadata": {},
   "source": [
    "\n",
    "\n",
    "---\n",
    "\n",
    "\n",
    "\n",
    "---\n",
    "\n"
   ]
  },
  {
   "cell_type": "markdown",
   "metadata": {
    "id": "r2OPiXFbPjVi"
   },
   "source": [
    "## 07. Conclusão:"
   ]
  },
  {
   "cell_type": "markdown",
   "metadata": {
    "id": "GQ8LXUYxP1M7"
   },
   "source": [
    "Podemos concluir que existe uma correlação positiva expressiva entre o Valor Máximo pago pelas empresas e o Valor Mínimo mas, não identificamos uma correlação entre as características das empresas analisadas com os valores salariais.  Apoiado nessa conclusão, criamos a hipótese de que os valores salariais ofertados pelas empresas são correlacionados com as habilidades dos candidatos. Habilidades essas operacionais e ou comportamentais. \n",
    "\n",
    "Também acredito que a amostra analisada possuia poucos valores de determinados cargos, o que pode ter influênciado algumas análises.\n",
    "\n",
    "Para uma análise mais profunda é necessário pesquisar banco de dados mais completos que contenham as informações exigidas para a candidatura dos profissionais e não apenas as características das empresas contratantes. \n",
    "\n",
    "\n",
    "\n",
    "\n"
   ]
  },
  {
   "cell_type": "markdown",
   "metadata": {
    "id": "nQMXpN0iQtfn"
   },
   "source": [
    "\n",
    "\n",
    "---\n",
    "\n",
    "\n",
    "\n",
    "---\n",
    "\n"
   ]
  }
 ],
 "metadata": {
  "colab": {
   "authorship_tag": "ABX9TyONDvLDdcQoOkm/lF5cb6QK",
   "collapsed_sections": [
    "ot77pl5w54R8",
    "fMER2V3v6Mf4",
    "sV4UqUOB69qR",
    "YmPpNPJS12H7",
    "_eTmiePO9hSR"
   ],
   "include_colab_link": true,
   "name": "ProjetoFinalAwari.ipynb",
   "provenance": []
  },
  "kernelspec": {
   "display_name": "Python 3 (ipykernel)",
   "language": "python",
   "name": "python3"
  },
  "language_info": {
   "codemirror_mode": {
    "name": "ipython",
    "version": 3
   },
   "file_extension": ".py",
   "mimetype": "text/x-python",
   "name": "python",
   "nbconvert_exporter": "python",
   "pygments_lexer": "ipython3",
   "version": "3.9.7"
  }
 },
 "nbformat": 4,
 "nbformat_minor": 1
}
